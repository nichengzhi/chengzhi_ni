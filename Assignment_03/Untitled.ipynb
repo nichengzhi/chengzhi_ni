{
 "cells": [
  {
   "cell_type": "code",
   "execution_count": 1,
   "metadata": {},
   "outputs": [],
   "source": [
    "import json\n",
    "import pandas as pd"
   ]
  },
  {
   "cell_type": "code",
   "execution_count": 2,
   "metadata": {},
   "outputs": [],
   "source": [
    "with open('reviews.json') as f:\n",
    "    reviews = f.read().strip().split(\"\\n\")\n",
    "    "
   ]
  },
  {
   "cell_type": "code",
   "execution_count": 4,
   "metadata": {},
   "outputs": [],
   "source": [
    "review_list = pd.DataFrame(columns = json.loads(reviews[0]))"
   ]
  },
  {
   "cell_type": "code",
   "execution_count": 5,
   "metadata": {},
   "outputs": [],
   "source": [
    "for review in reviews:\n",
    "    one = json.loads(review)\n",
    "    review_list.loc[-1] = [one['name'],one['date'],one['text'],one['score']]\n",
    "    review_list.index = review_list.index + 1\n",
    "    review_list = review_list.sort_index()"
   ]
  },
  {
   "cell_type": "code",
   "execution_count": 6,
   "metadata": {
    "scrolled": true
   },
   "outputs": [
    {
     "data": {
      "text/html": [
       "<div>\n",
       "<style scoped>\n",
       "    .dataframe tbody tr th:only-of-type {\n",
       "        vertical-align: middle;\n",
       "    }\n",
       "\n",
       "    .dataframe tbody tr th {\n",
       "        vertical-align: top;\n",
       "    }\n",
       "\n",
       "    .dataframe thead th {\n",
       "        text-align: right;\n",
       "    }\n",
       "</style>\n",
       "<table border=\"1\" class=\"dataframe\">\n",
       "  <thead>\n",
       "    <tr style=\"text-align: right;\">\n",
       "      <th></th>\n",
       "      <th>name</th>\n",
       "      <th>date</th>\n",
       "      <th>text</th>\n",
       "      <th>score</th>\n",
       "    </tr>\n",
       "  </thead>\n",
       "  <tbody>\n",
       "    <tr>\n",
       "      <th>0</th>\n",
       "      <td>Heather</td>\n",
       "      <td>2018-04-08 00:00:00</td>\n",
       "      <td>When I click the button it shines brightly</td>\n",
       "      <td>5.0</td>\n",
       "    </tr>\n",
       "    <tr>\n",
       "      <th>1</th>\n",
       "      <td>smokey</td>\n",
       "      <td>2018-04-08 00:00:00</td>\n",
       "      <td>i have to buy batteries  china junk</td>\n",
       "      <td>1.0</td>\n",
       "    </tr>\n",
       "    <tr>\n",
       "      <th>2</th>\n",
       "      <td>Susan</td>\n",
       "      <td>2018-04-07 00:00:00</td>\n",
       "      <td>Arrived on time and product is as depicted.  G...</td>\n",
       "      <td>5.0</td>\n",
       "    </tr>\n",
       "    <tr>\n",
       "      <th>3</th>\n",
       "      <td>JiaHui Chen</td>\n",
       "      <td>2018-04-07 00:00:00</td>\n",
       "      <td>This is a small iron flashlight, it is very co...</td>\n",
       "      <td>5.0</td>\n",
       "    </tr>\n",
       "    <tr>\n",
       "      <th>4</th>\n",
       "      <td>Amazon Customer</td>\n",
       "      <td>2018-04-07 00:00:00</td>\n",
       "      <td>Awesome flashlight for the price!</td>\n",
       "      <td>5.0</td>\n",
       "    </tr>\n",
       "    <tr>\n",
       "      <th>5</th>\n",
       "      <td>Atlanta Jake</td>\n",
       "      <td>2018-04-07 00:00:00</td>\n",
       "      <td>Got these two flashlights on sale and well wor...</td>\n",
       "      <td>5.0</td>\n",
       "    </tr>\n",
       "    <tr>\n",
       "      <th>6</th>\n",
       "      <td>An N.</td>\n",
       "      <td>2018-04-07 00:00:00</td>\n",
       "      <td>Decent enough light. But I hated the fact that...</td>\n",
       "      <td>2.0</td>\n",
       "    </tr>\n",
       "    <tr>\n",
       "      <th>7</th>\n",
       "      <td>MW</td>\n",
       "      <td>2018-04-06 00:00:00</td>\n",
       "      <td>It’s tiny cute flashlight.  As of luminous flu...</td>\n",
       "      <td>5.0</td>\n",
       "    </tr>\n",
       "    <tr>\n",
       "      <th>8</th>\n",
       "      <td>Nicholas Kisling</td>\n",
       "      <td>2018-04-06 00:00:00</td>\n",
       "      <td>Better than I was expecting for the price and ...</td>\n",
       "      <td>4.0</td>\n",
       "    </tr>\n",
       "    <tr>\n",
       "      <th>9</th>\n",
       "      <td>Jing Zhang</td>\n",
       "      <td>2018-04-06 00:00:00</td>\n",
       "      <td>This is one of the must haves for each and eve...</td>\n",
       "      <td>5.0</td>\n",
       "    </tr>\n",
       "    <tr>\n",
       "      <th>10</th>\n",
       "      <td>Heather</td>\n",
       "      <td>2018-04-08 00:00:00</td>\n",
       "      <td>When I click the button it shines brightly</td>\n",
       "      <td>5.0</td>\n",
       "    </tr>\n",
       "    <tr>\n",
       "      <th>11</th>\n",
       "      <td>smokey</td>\n",
       "      <td>2018-04-08 00:00:00</td>\n",
       "      <td>i have to buy batteries  china junk</td>\n",
       "      <td>1.0</td>\n",
       "    </tr>\n",
       "    <tr>\n",
       "      <th>12</th>\n",
       "      <td>Susan</td>\n",
       "      <td>2018-04-07 00:00:00</td>\n",
       "      <td>Arrived on time and product is as depicted.  G...</td>\n",
       "      <td>5.0</td>\n",
       "    </tr>\n",
       "    <tr>\n",
       "      <th>13</th>\n",
       "      <td>JiaHui Chen</td>\n",
       "      <td>2018-04-07 00:00:00</td>\n",
       "      <td>This is a small iron flashlight, it is very co...</td>\n",
       "      <td>5.0</td>\n",
       "    </tr>\n",
       "    <tr>\n",
       "      <th>14</th>\n",
       "      <td>Amazon Customer</td>\n",
       "      <td>2018-04-07 00:00:00</td>\n",
       "      <td>Awesome flashlight for the price!</td>\n",
       "      <td>5.0</td>\n",
       "    </tr>\n",
       "    <tr>\n",
       "      <th>15</th>\n",
       "      <td>Atlanta Jake</td>\n",
       "      <td>2018-04-07 00:00:00</td>\n",
       "      <td>Got these two flashlights on sale and well wor...</td>\n",
       "      <td>5.0</td>\n",
       "    </tr>\n",
       "    <tr>\n",
       "      <th>16</th>\n",
       "      <td>An N.</td>\n",
       "      <td>2018-04-07 00:00:00</td>\n",
       "      <td>Decent enough light. But I hated the fact that...</td>\n",
       "      <td>2.0</td>\n",
       "    </tr>\n",
       "    <tr>\n",
       "      <th>17</th>\n",
       "      <td>MW</td>\n",
       "      <td>2018-04-06 00:00:00</td>\n",
       "      <td>It’s tiny cute flashlight.  As of luminous flu...</td>\n",
       "      <td>5.0</td>\n",
       "    </tr>\n",
       "    <tr>\n",
       "      <th>18</th>\n",
       "      <td>Nicholas Kisling</td>\n",
       "      <td>2018-04-06 00:00:00</td>\n",
       "      <td>Better than I was expecting for the price and ...</td>\n",
       "      <td>4.0</td>\n",
       "    </tr>\n",
       "    <tr>\n",
       "      <th>19</th>\n",
       "      <td>Jing Zhang</td>\n",
       "      <td>2018-04-06 00:00:00</td>\n",
       "      <td>This is one of the must haves for each and eve...</td>\n",
       "      <td>5.0</td>\n",
       "    </tr>\n",
       "    <tr>\n",
       "      <th>20</th>\n",
       "      <td>Amazon Customer</td>\n",
       "      <td>2018-04-06 00:00:00</td>\n",
       "      <td>One of the flashlights switch does not work.</td>\n",
       "      <td>3.0</td>\n",
       "    </tr>\n",
       "    <tr>\n",
       "      <th>21</th>\n",
       "      <td>Obafemi</td>\n",
       "      <td>2018-04-06 00:00:00</td>\n",
       "      <td>They are working good. I love it!</td>\n",
       "      <td>5.0</td>\n",
       "    </tr>\n",
       "    <tr>\n",
       "      <th>22</th>\n",
       "      <td>jon asri</td>\n",
       "      <td>2018-04-05 00:00:00</td>\n",
       "      <td>DOA and this item is not eligible for return!</td>\n",
       "      <td>1.0</td>\n",
       "    </tr>\n",
       "    <tr>\n",
       "      <th>23</th>\n",
       "      <td>Terry</td>\n",
       "      <td>2018-04-05 00:00:00</td>\n",
       "      <td>They aren't bad lights, Really bright, lightly...</td>\n",
       "      <td>3.0</td>\n",
       "    </tr>\n",
       "    <tr>\n",
       "      <th>24</th>\n",
       "      <td>Marlies Fitch Ledbetter</td>\n",
       "      <td>2018-04-05 00:00:00</td>\n",
       "      <td>Can’t even get a battery in it. And it’s not b...</td>\n",
       "      <td>1.0</td>\n",
       "    </tr>\n",
       "    <tr>\n",
       "      <th>25</th>\n",
       "      <td>Mikki - Student</td>\n",
       "      <td>2018-04-05 00:00:00</td>\n",
       "      <td>1 of the 2 flashlights work. but not as advert...</td>\n",
       "      <td>1.0</td>\n",
       "    </tr>\n",
       "    <tr>\n",
       "      <th>26</th>\n",
       "      <td>BH</td>\n",
       "      <td>2018-04-05 00:00:00</td>\n",
       "      <td>It's compact, lightweight, focusable, and brig...</td>\n",
       "      <td>5.0</td>\n",
       "    </tr>\n",
       "    <tr>\n",
       "      <th>27</th>\n",
       "      <td>J. Madsen</td>\n",
       "      <td>2018-04-04 00:00:00</td>\n",
       "      <td>Really bright for the size one aa battery a plus</td>\n",
       "      <td>5.0</td>\n",
       "    </tr>\n",
       "    <tr>\n",
       "      <th>28</th>\n",
       "      <td>Diana R. Ortega</td>\n",
       "      <td>2018-04-04 00:00:00</td>\n",
       "      <td>They're very small, but work well for a 4 inch...</td>\n",
       "      <td>3.0</td>\n",
       "    </tr>\n",
       "    <tr>\n",
       "      <th>29</th>\n",
       "      <td>loudheart</td>\n",
       "      <td>2018-04-04 00:00:00</td>\n",
       "      <td>It's okay.</td>\n",
       "      <td>2.0</td>\n",
       "    </tr>\n",
       "    <tr>\n",
       "      <th>...</th>\n",
       "      <td>...</td>\n",
       "      <td>...</td>\n",
       "      <td>...</td>\n",
       "      <td>...</td>\n",
       "    </tr>\n",
       "    <tr>\n",
       "      <th>773</th>\n",
       "      <td>Edward McCarthy</td>\n",
       "      <td>2017-03-05 00:00:00</td>\n",
       "      <td>I had bought a pair similar to these previousl...</td>\n",
       "      <td>2.0</td>\n",
       "    </tr>\n",
       "    <tr>\n",
       "      <th>774</th>\n",
       "      <td>Charles J. Cole</td>\n",
       "      <td>2017-03-04 00:00:00</td>\n",
       "      <td>This is probably the best and most compact set...</td>\n",
       "      <td>5.0</td>\n",
       "    </tr>\n",
       "    <tr>\n",
       "      <th>775</th>\n",
       "      <td>GardenGuy</td>\n",
       "      <td>2017-03-04 00:00:00</td>\n",
       "      <td>1:580:00This video is not intended for all aud...</td>\n",
       "      <td>5.0</td>\n",
       "    </tr>\n",
       "    <tr>\n",
       "      <th>776</th>\n",
       "      <td>pam mortensen</td>\n",
       "      <td>2017-03-02 00:00:00</td>\n",
       "      <td>great little lights</td>\n",
       "      <td>5.0</td>\n",
       "    </tr>\n",
       "    <tr>\n",
       "      <th>777</th>\n",
       "      <td>KR</td>\n",
       "      <td>2017-03-01 00:00:00</td>\n",
       "      <td>love them</td>\n",
       "      <td>5.0</td>\n",
       "    </tr>\n",
       "    <tr>\n",
       "      <th>778</th>\n",
       "      <td>DAVID DUDLEY</td>\n",
       "      <td>2017-03-01 00:00:00</td>\n",
       "      <td>Excellent! These are great!</td>\n",
       "      <td>5.0</td>\n",
       "    </tr>\n",
       "    <tr>\n",
       "      <th>779</th>\n",
       "      <td>ROBAMA</td>\n",
       "      <td>2017-02-24 00:00:00</td>\n",
       "      <td>MUY BUEN PRODUCTO</td>\n",
       "      <td>5.0</td>\n",
       "    </tr>\n",
       "    <tr>\n",
       "      <th>780</th>\n",
       "      <td>Rodel P. Urmatan</td>\n",
       "      <td>2017-02-23 00:00:00</td>\n",
       "      <td>Rock solid construction with great beams of li...</td>\n",
       "      <td>5.0</td>\n",
       "    </tr>\n",
       "    <tr>\n",
       "      <th>781</th>\n",
       "      <td>A Customer 9999999</td>\n",
       "      <td>2017-02-23 00:00:00</td>\n",
       "      <td>Dropped the light one time. Now the slightest ...</td>\n",
       "      <td>3.0</td>\n",
       "    </tr>\n",
       "    <tr>\n",
       "      <th>782</th>\n",
       "      <td>M D B</td>\n",
       "      <td>2017-02-23 00:00:00</td>\n",
       "      <td>Really like these flashlights! Work very well....</td>\n",
       "      <td>5.0</td>\n",
       "    </tr>\n",
       "    <tr>\n",
       "      <th>783</th>\n",
       "      <td>Ray leon</td>\n",
       "      <td>2017-02-18 00:00:00</td>\n",
       "      <td>bright and compact design. have them all thru ...</td>\n",
       "      <td>5.0</td>\n",
       "    </tr>\n",
       "    <tr>\n",
       "      <th>784</th>\n",
       "      <td>Twinmom</td>\n",
       "      <td>2017-02-17 00:00:00</td>\n",
       "      <td>These are great flashlights. They are perfect ...</td>\n",
       "      <td>5.0</td>\n",
       "    </tr>\n",
       "    <tr>\n",
       "      <th>785</th>\n",
       "      <td>Calvin</td>\n",
       "      <td>2017-02-16 00:00:00</td>\n",
       "      <td>Wow these were a lot brighter than I expected....</td>\n",
       "      <td>5.0</td>\n",
       "    </tr>\n",
       "    <tr>\n",
       "      <th>786</th>\n",
       "      <td>Amazon Customer</td>\n",
       "      <td>2017-02-16 00:00:00</td>\n",
       "      <td>Great for the price.No complaints so far.</td>\n",
       "      <td>4.0</td>\n",
       "    </tr>\n",
       "    <tr>\n",
       "      <th>787</th>\n",
       "      <td>James King</td>\n",
       "      <td>2017-02-15 00:00:00</td>\n",
       "      <td>When turning these on, you get a different mod...</td>\n",
       "      <td>2.0</td>\n",
       "    </tr>\n",
       "    <tr>\n",
       "      <th>788</th>\n",
       "      <td>Leslie Dixon</td>\n",
       "      <td>2017-02-13 00:00:00</td>\n",
       "      <td>After getting screwed by the seller Vaya I bou...</td>\n",
       "      <td>4.0</td>\n",
       "    </tr>\n",
       "    <tr>\n",
       "      <th>789</th>\n",
       "      <td>D. Griffin</td>\n",
       "      <td>2017-02-06 00:00:00</td>\n",
       "      <td>These are GREAT!</td>\n",
       "      <td>5.0</td>\n",
       "    </tr>\n",
       "    <tr>\n",
       "      <th>790</th>\n",
       "      <td>Amazon Customer</td>\n",
       "      <td>2017-01-21 00:00:00</td>\n",
       "      <td>The lights are  Nice.  Several others are simi...</td>\n",
       "      <td>4.0</td>\n",
       "    </tr>\n",
       "    <tr>\n",
       "      <th>791</th>\n",
       "      <td>John</td>\n",
       "      <td>2017-01-20 00:00:00</td>\n",
       "      <td>They work as expected.</td>\n",
       "      <td>5.0</td>\n",
       "    </tr>\n",
       "    <tr>\n",
       "      <th>792</th>\n",
       "      <td>Happy</td>\n",
       "      <td>2017-01-17 00:00:00</td>\n",
       "      <td>Don't use to often very bright.Broken spring n...</td>\n",
       "      <td>1.0</td>\n",
       "    </tr>\n",
       "    <tr>\n",
       "      <th>793</th>\n",
       "      <td>Garden Walk</td>\n",
       "      <td>2017-01-17 00:00:00</td>\n",
       "      <td>Wish they were smaller, but very good light so...</td>\n",
       "      <td>4.0</td>\n",
       "    </tr>\n",
       "    <tr>\n",
       "      <th>794</th>\n",
       "      <td>Sherbear</td>\n",
       "      <td>2017-01-15 00:00:00</td>\n",
       "      <td>WOW are these bright. Theyre small but they pa...</td>\n",
       "      <td>5.0</td>\n",
       "    </tr>\n",
       "    <tr>\n",
       "      <th>795</th>\n",
       "      <td>Renee</td>\n",
       "      <td>2017-01-10 00:00:00</td>\n",
       "      <td>Loved it at first, but after dropping it once,...</td>\n",
       "      <td>1.0</td>\n",
       "    </tr>\n",
       "    <tr>\n",
       "      <th>796</th>\n",
       "      <td>Amazon Customer</td>\n",
       "      <td>2017-01-06 00:00:00</td>\n",
       "      <td>These are very small flashlights. They feel ve...</td>\n",
       "      <td>5.0</td>\n",
       "    </tr>\n",
       "    <tr>\n",
       "      <th>797</th>\n",
       "      <td>rd5565</td>\n",
       "      <td>2017-01-05 00:00:00</td>\n",
       "      <td>These flashlights are awesome. They are very s...</td>\n",
       "      <td>5.0</td>\n",
       "    </tr>\n",
       "    <tr>\n",
       "      <th>798</th>\n",
       "      <td>Harvey Sherman</td>\n",
       "      <td>2017-01-03 00:00:00</td>\n",
       "      <td>All of them are working great. Bought some fro...</td>\n",
       "      <td>5.0</td>\n",
       "    </tr>\n",
       "    <tr>\n",
       "      <th>799</th>\n",
       "      <td>Peter Dandyk</td>\n",
       "      <td>2017-01-03 00:00:00</td>\n",
       "      <td>5 out of 6 were good.</td>\n",
       "      <td>4.0</td>\n",
       "    </tr>\n",
       "    <tr>\n",
       "      <th>800</th>\n",
       "      <td>Robert S. Nelson Jr.</td>\n",
       "      <td>2017-01-02 00:00:00</td>\n",
       "      <td>better than expected</td>\n",
       "      <td>5.0</td>\n",
       "    </tr>\n",
       "    <tr>\n",
       "      <th>801</th>\n",
       "      <td>Amazon Customer</td>\n",
       "      <td>2017-01-02 00:00:00</td>\n",
       "      <td>Product as described, shipped promptly.</td>\n",
       "      <td>5.0</td>\n",
       "    </tr>\n",
       "    <tr>\n",
       "      <th>802</th>\n",
       "      <td>Amazon Customer</td>\n",
       "      <td>2017-01-01 00:00:00</td>\n",
       "      <td>great flash lights, 3 modes low light, bright ...</td>\n",
       "      <td>5.0</td>\n",
       "    </tr>\n",
       "  </tbody>\n",
       "</table>\n",
       "<p>803 rows × 4 columns</p>\n",
       "</div>"
      ],
      "text/plain": [
       "                        name                 date  \\\n",
       "0                    Heather  2018-04-08 00:00:00   \n",
       "1                     smokey  2018-04-08 00:00:00   \n",
       "2                      Susan  2018-04-07 00:00:00   \n",
       "3                JiaHui Chen  2018-04-07 00:00:00   \n",
       "4            Amazon Customer  2018-04-07 00:00:00   \n",
       "5               Atlanta Jake  2018-04-07 00:00:00   \n",
       "6                      An N.  2018-04-07 00:00:00   \n",
       "7                         MW  2018-04-06 00:00:00   \n",
       "8           Nicholas Kisling  2018-04-06 00:00:00   \n",
       "9                 Jing Zhang  2018-04-06 00:00:00   \n",
       "10                   Heather  2018-04-08 00:00:00   \n",
       "11                    smokey  2018-04-08 00:00:00   \n",
       "12                     Susan  2018-04-07 00:00:00   \n",
       "13               JiaHui Chen  2018-04-07 00:00:00   \n",
       "14           Amazon Customer  2018-04-07 00:00:00   \n",
       "15              Atlanta Jake  2018-04-07 00:00:00   \n",
       "16                     An N.  2018-04-07 00:00:00   \n",
       "17                        MW  2018-04-06 00:00:00   \n",
       "18          Nicholas Kisling  2018-04-06 00:00:00   \n",
       "19                Jing Zhang  2018-04-06 00:00:00   \n",
       "20           Amazon Customer  2018-04-06 00:00:00   \n",
       "21                  Obafemi   2018-04-06 00:00:00   \n",
       "22                  jon asri  2018-04-05 00:00:00   \n",
       "23                     Terry  2018-04-05 00:00:00   \n",
       "24   Marlies Fitch Ledbetter  2018-04-05 00:00:00   \n",
       "25           Mikki - Student  2018-04-05 00:00:00   \n",
       "26                        BH  2018-04-05 00:00:00   \n",
       "27                 J. Madsen  2018-04-04 00:00:00   \n",
       "28           Diana R. Ortega  2018-04-04 00:00:00   \n",
       "29                 loudheart  2018-04-04 00:00:00   \n",
       "..                       ...                  ...   \n",
       "773          Edward McCarthy  2017-03-05 00:00:00   \n",
       "774          Charles J. Cole  2017-03-04 00:00:00   \n",
       "775                GardenGuy  2017-03-04 00:00:00   \n",
       "776            pam mortensen  2017-03-02 00:00:00   \n",
       "777                       KR  2017-03-01 00:00:00   \n",
       "778             DAVID DUDLEY  2017-03-01 00:00:00   \n",
       "779                   ROBAMA  2017-02-24 00:00:00   \n",
       "780         Rodel P. Urmatan  2017-02-23 00:00:00   \n",
       "781       A Customer 9999999  2017-02-23 00:00:00   \n",
       "782                    M D B  2017-02-23 00:00:00   \n",
       "783                 Ray leon  2017-02-18 00:00:00   \n",
       "784                  Twinmom  2017-02-17 00:00:00   \n",
       "785                   Calvin  2017-02-16 00:00:00   \n",
       "786          Amazon Customer  2017-02-16 00:00:00   \n",
       "787               James King  2017-02-15 00:00:00   \n",
       "788             Leslie Dixon  2017-02-13 00:00:00   \n",
       "789               D. Griffin  2017-02-06 00:00:00   \n",
       "790          Amazon Customer  2017-01-21 00:00:00   \n",
       "791                     John  2017-01-20 00:00:00   \n",
       "792                    Happy  2017-01-17 00:00:00   \n",
       "793              Garden Walk  2017-01-17 00:00:00   \n",
       "794                 Sherbear  2017-01-15 00:00:00   \n",
       "795                    Renee  2017-01-10 00:00:00   \n",
       "796          Amazon Customer  2017-01-06 00:00:00   \n",
       "797                   rd5565  2017-01-05 00:00:00   \n",
       "798           Harvey Sherman  2017-01-03 00:00:00   \n",
       "799             Peter Dandyk  2017-01-03 00:00:00   \n",
       "800     Robert S. Nelson Jr.  2017-01-02 00:00:00   \n",
       "801          Amazon Customer  2017-01-02 00:00:00   \n",
       "802          Amazon Customer  2017-01-01 00:00:00   \n",
       "\n",
       "                                                  text  score  \n",
       "0           When I click the button it shines brightly    5.0  \n",
       "1                  i have to buy batteries  china junk    1.0  \n",
       "2    Arrived on time and product is as depicted.  G...    5.0  \n",
       "3    This is a small iron flashlight, it is very co...    5.0  \n",
       "4                    Awesome flashlight for the price!    5.0  \n",
       "5    Got these two flashlights on sale and well wor...    5.0  \n",
       "6    Decent enough light. But I hated the fact that...    2.0  \n",
       "7    It’s tiny cute flashlight.  As of luminous flu...    5.0  \n",
       "8    Better than I was expecting for the price and ...    4.0  \n",
       "9    This is one of the must haves for each and eve...    5.0  \n",
       "10          When I click the button it shines brightly    5.0  \n",
       "11                 i have to buy batteries  china junk    1.0  \n",
       "12   Arrived on time and product is as depicted.  G...    5.0  \n",
       "13   This is a small iron flashlight, it is very co...    5.0  \n",
       "14                   Awesome flashlight for the price!    5.0  \n",
       "15   Got these two flashlights on sale and well wor...    5.0  \n",
       "16   Decent enough light. But I hated the fact that...    2.0  \n",
       "17   It’s tiny cute flashlight.  As of luminous flu...    5.0  \n",
       "18   Better than I was expecting for the price and ...    4.0  \n",
       "19   This is one of the must haves for each and eve...    5.0  \n",
       "20        One of the flashlights switch does not work.    3.0  \n",
       "21                   They are working good. I love it!    5.0  \n",
       "22       DOA and this item is not eligible for return!    1.0  \n",
       "23   They aren't bad lights, Really bright, lightly...    3.0  \n",
       "24   Can’t even get a battery in it. And it’s not b...    1.0  \n",
       "25   1 of the 2 flashlights work. but not as advert...    1.0  \n",
       "26   It's compact, lightweight, focusable, and brig...    5.0  \n",
       "27    Really bright for the size one aa battery a plus    5.0  \n",
       "28   They're very small, but work well for a 4 inch...    3.0  \n",
       "29                                          It's okay.    2.0  \n",
       "..                                                 ...    ...  \n",
       "773  I had bought a pair similar to these previousl...    2.0  \n",
       "774  This is probably the best and most compact set...    5.0  \n",
       "775  1:580:00This video is not intended for all aud...    5.0  \n",
       "776                                great little lights    5.0  \n",
       "777                                          love them    5.0  \n",
       "778                        Excellent! These are great!    5.0  \n",
       "779                                  MUY BUEN PRODUCTO    5.0  \n",
       "780  Rock solid construction with great beams of li...    5.0  \n",
       "781  Dropped the light one time. Now the slightest ...    3.0  \n",
       "782  Really like these flashlights! Work very well....    5.0  \n",
       "783  bright and compact design. have them all thru ...    5.0  \n",
       "784  These are great flashlights. They are perfect ...    5.0  \n",
       "785  Wow these were a lot brighter than I expected....    5.0  \n",
       "786          Great for the price.No complaints so far.    4.0  \n",
       "787  When turning these on, you get a different mod...    2.0  \n",
       "788  After getting screwed by the seller Vaya I bou...    4.0  \n",
       "789                                   These are GREAT!    5.0  \n",
       "790  The lights are  Nice.  Several others are simi...    4.0  \n",
       "791                             They work as expected.    5.0  \n",
       "792  Don't use to often very bright.Broken spring n...    1.0  \n",
       "793  Wish they were smaller, but very good light so...    4.0  \n",
       "794  WOW are these bright. Theyre small but they pa...    5.0  \n",
       "795  Loved it at first, but after dropping it once,...    1.0  \n",
       "796  These are very small flashlights. They feel ve...    5.0  \n",
       "797  These flashlights are awesome. They are very s...    5.0  \n",
       "798  All of them are working great. Bought some fro...    5.0  \n",
       "799                              5 out of 6 were good.    4.0  \n",
       "800                               better than expected    5.0  \n",
       "801            Product as described, shipped promptly.    5.0  \n",
       "802  great flash lights, 3 modes low light, bright ...    5.0  \n",
       "\n",
       "[803 rows x 4 columns]"
      ]
     },
     "execution_count": 6,
     "metadata": {},
     "output_type": "execute_result"
    }
   ],
   "source": [
    "review_list"
   ]
  },
  {
   "cell_type": "code",
   "execution_count": 161,
   "metadata": {},
   "outputs": [],
   "source": [
    "#detect fake reviews\n",
    "review_list['text length'] = review_list['text'].apply(lambda x: len(x.split()))\n",
    "review_list['name length'] = review_list['name'].apply(lambda x: len(x))"
   ]
  },
  {
   "cell_type": "code",
   "execution_count": 162,
   "metadata": {},
   "outputs": [],
   "source": [
    "full_star_review = review_list[(review_list.score == 5.0)]"
   ]
  },
  {
   "cell_type": "code",
   "execution_count": 166,
   "metadata": {
    "scrolled": false
   },
   "outputs": [
    {
     "data": {
      "text/plain": [
       "<matplotlib.axes._subplots.AxesSubplot at 0x1b92d2b6828>"
      ]
     },
     "execution_count": 166,
     "metadata": {},
     "output_type": "execute_result"
    },
    {
     "data": {
      "image/png": "[encoded data removed]",
      "text/plain": [
       "<Figure size 432x288 with 1 Axes>"
      ]
     },
     "metadata": {},
     "output_type": "display_data"
    }
   ],
   "source": [
    "full_star_review.plot.scatter(x='name length', y='text length',alpha = 0.1)"
   ]
  },
  {
   "cell_type": "code",
   "execution_count": 167,
   "metadata": {},
   "outputs": [
    {
     "data": {
      "text/plain": [
       "<matplotlib.axes._subplots.AxesSubplot at 0x1b92b19e550>"
      ]
     },
     "execution_count": 167,
     "metadata": {},
     "output_type": "execute_result"
    },
    {
     "data": {
      "image/png": "[encoded data removed]",
      "text/plain": [
       "<Figure size 432x288 with 1 Axes>"
      ]
     },
     "metadata": {},
     "output_type": "display_data"
    }
   ],
   "source": [
    "review_list.plot.scatter(x='name length', y='score',alpha = 0.1)"
   ]
  },
  {
   "cell_type": "code",
   "execution_count": 12,
   "metadata": {},
   "outputs": [
    {
     "data": {
      "text/plain": [
       "array([[<matplotlib.axes._subplots.AxesSubplot object at 0x000001B92481C828>,\n",
       "        <matplotlib.axes._subplots.AxesSubplot object at 0x000001B924852710>],\n",
       "       [<matplotlib.axes._subplots.AxesSubplot object at 0x000001B92487ADA0>,\n",
       "        <matplotlib.axes._subplots.AxesSubplot object at 0x000001B9248AA438>],\n",
       "       [<matplotlib.axes._subplots.AxesSubplot object at 0x000001B9248D3AC8>,\n",
       "        <matplotlib.axes._subplots.AxesSubplot object at 0x000001B9248D3B00>]],\n",
       "      dtype=object)"
      ]
     },
     "execution_count": 12,
     "metadata": {},
     "output_type": "execute_result"
    },
    {
     "data": {
      "image/png": "[encoded data removed]",
      "text/plain": [
       "<Figure size 432x576 with 6 Axes>"
      ]
     },
     "metadata": {},
     "output_type": "display_data"
    }
   ],
   "source": [
    "review_list['text length'].hist(by = review_list['score'], figsize = (6,8))"
   ]
  },
  {
   "cell_type": "code",
   "execution_count": 13,
   "metadata": {},
   "outputs": [
    {
     "data": {
      "text/plain": [
       "5.0    516\n",
       "4.0    109\n",
       "1.0     75\n",
       "3.0     53\n",
       "2.0     50\n",
       "Name: score, dtype: int64"
      ]
     },
     "execution_count": 13,
     "metadata": {},
     "output_type": "execute_result"
    }
   ],
   "source": [
    "pd.value_counts(review_list['score'])"
   ]
  },
  {
   "cell_type": "code",
   "execution_count": 14,
   "metadata": {},
   "outputs": [
    {
     "data": {
      "text/plain": [
       "count    803.000000\n",
       "mean      28.926526\n",
       "std       34.411523\n",
       "min        1.000000\n",
       "25%        7.000000\n",
       "50%       17.000000\n",
       "75%       38.000000\n",
       "max      345.000000\n",
       "Name: text length, dtype: float64"
      ]
     },
     "execution_count": 14,
     "metadata": {},
     "output_type": "execute_result"
    }
   ],
   "source": [
    "review_list['text length'].describe()"
   ]
  },
  {
   "cell_type": "code",
   "execution_count": 16,
   "metadata": {},
   "outputs": [
    {
     "data": {
      "text/plain": [
       "<matplotlib.axes._subplots.AxesSubplot at 0x1b925b8e9e8>"
      ]
     },
     "execution_count": 16,
     "metadata": {},
     "output_type": "execute_result"
    },
    {
     "data": {
      "image/png": "[encoded data removed]",
      "text/plain": [
       "<Figure size 432x288 with 1 Axes>"
      ]
     },
     "metadata": {},
     "output_type": "display_data"
    }
   ],
   "source": [
    "review_list['text length'].plot(kind='kde', logx=True)"
   ]
  },
  {
   "cell_type": "code",
   "execution_count": 18,
   "metadata": {},
   "outputs": [],
   "source": [
    "from sklearn.base import BaseEstimator, TransformerMixin"
   ]
  },
  {
   "cell_type": "code",
   "execution_count": 20,
   "metadata": {},
   "outputs": [],
   "source": [
    "import spacy\n",
    "\n",
    "nlp = spacy.load('en')"
   ]
  },
  {
   "cell_type": "code",
   "execution_count": 52,
   "metadata": {},
   "outputs": [],
   "source": [
    "class PartOfSpeechFilter(BaseEstimator, TransformerMixin):\n",
    "    def __init__(self, pos_to_keep=('NOUN', 'PROPN', 'ADJ', 'VERB'), stop_words=None):\n",
    "        self.pos_to_keep = pos_to_keep\n",
    "        self.stop_words = stop_words\n",
    "        \n",
    "    def fit(self, X, y=None):\n",
    "        return self\n",
    "        \n",
    "    def transform(self, X):\n",
    "        preprocessed_sentences = []\n",
    "        \n",
    "        for doc in nlp.pipe(X, n_threads=8):\n",
    "            if self.stop_words is not None:\n",
    "                keep_tokens_string = ' '.join([t.lemma_ for t in doc if t.pos_ in self.pos_to_keep and t.lemma_ not in self.stop_words])\n",
    "            else:\n",
    "                keep_tokens_string = ' '.join([t.lemma_ for t in doc if t.pos_ in self.pos_to_keep])\n",
    "            preprocessed_sentences.append(keep_tokens_string)\n",
    "    \n",
    "        return preprocessed_sentences "
   ]
  },
  {
   "cell_type": "code",
   "execution_count": 53,
   "metadata": {},
   "outputs": [],
   "source": [
    "from sklearn.pipeline import Pipeline\n",
    "from sklearn.feature_extraction.text import CountVectorizer\n",
    "cv = CountVectorizer(lowercase=True, stop_words='english',)\n",
    "posf = PartOfSpeechFilter()\n"
   ]
  },
  {
   "cell_type": "code",
   "execution_count": 64,
   "metadata": {},
   "outputs": [
    {
     "data": {
      "text/plain": [
       "Pipeline(memory=None,\n",
       "     steps=[('posf', PartOfSpeechFilter(pos_to_keep=('NOUN', 'PROPN', 'ADJ', 'VERB'),\n",
       "          stop_words=None)), ('cv', CountVectorizer(analyzer='word', binary=False, decode_error='strict',\n",
       "        dtype=<class 'numpy.int64'>, encoding='utf-8', input='content',\n",
       "        lowercase=True, max_df=0.95, max_...   strip_accents=None, token_pattern='(?u)\\\\b\\\\w\\\\w+\\\\b',\n",
       "        tokenizer=None, vocabulary=None))])"
      ]
     },
     "execution_count": 64,
     "metadata": {},
     "output_type": "execute_result"
    }
   ],
   "source": [
    "pipeline = Pipeline([('posf', PartOfSpeechFilter()),\n",
    "                     ('cv', CountVectorizer(lowercase=True, stop_words='english'))\n",
    "                    ])\n",
    "pipeline.set_params(**{'posf__stop_words': None})\n",
    "pipeline.set_params(cv__max_df=0.95, cv__min_df=0.01)\n"
   ]
  },
  {
   "cell_type": "code",
   "execution_count": 65,
   "metadata": {},
   "outputs": [],
   "source": [
    "preproc_reviews = pipeline.fit_transform(review_list.text)"
   ]
  },
  {
   "cell_type": "code",
   "execution_count": 66,
   "metadata": {},
   "outputs": [
    {
     "data": {
      "text/plain": [
       "<803x173 sparse matrix of type '<class 'numpy.int64'>'\n",
       "\twith 5819 stored elements in Compressed Sparse Row format>"
      ]
     },
     "execution_count": 66,
     "metadata": {},
     "output_type": "execute_result"
    }
   ],
   "source": [
    "preproc_reviews "
   ]
  },
  {
   "cell_type": "code",
   "execution_count": 67,
   "metadata": {},
   "outputs": [
    {
     "name": "stdout",
     "output_type": "stream",
     "text": [
      "Shape of result:  (803, 1)\n"
     ]
    }
   ],
   "source": [
    "sum_across_rows = preproc_reviews.sum(axis=1)\n",
    "print('Shape of result: ', sum_across_rows.shape)"
   ]
  },
  {
   "cell_type": "code",
   "execution_count": 68,
   "metadata": {
    "collapsed": true
   },
   "outputs": [
    {
     "data": {
      "text/plain": [
       "matrix([[ 2],\n",
       "        [ 2],\n",
       "        [13],\n",
       "        [12],\n",
       "        [ 3],\n",
       "        [19],\n",
       "        [ 6],\n",
       "        [ 9],\n",
       "        [19],\n",
       "        [ 6]], dtype=int64)"
      ]
     },
     "execution_count": 68,
     "metadata": {},
     "output_type": "execute_result"
    }
   ],
   "source": [
    "sum_across_rows[:10]"
   ]
  },
  {
   "cell_type": "code",
   "execution_count": 69,
   "metadata": {},
   "outputs": [
    {
     "data": {
      "text/plain": [
       "<matplotlib.axes._subplots.AxesSubplot at 0x1b92bded978>"
      ]
     },
     "execution_count": 69,
     "metadata": {},
     "output_type": "execute_result"
    },
    {
     "data": {
      "image/png": "[encoded data removed]",
      "text/plain": [
       "<Figure size 432x288 with 1 Axes>"
      ]
     },
     "metadata": {},
     "output_type": "display_data"
    }
   ],
   "source": [
    "pd.Series(sum_across_rows.A1).plot(kind='kde')#Return self as a flattened array"
   ]
  },
  {
   "cell_type": "code",
   "execution_count": 70,
   "metadata": {},
   "outputs": [
    {
     "data": {
      "text/plain": [
       "(1, 173)"
      ]
     },
     "execution_count": 70,
     "metadata": {},
     "output_type": "execute_result"
    }
   ],
   "source": [
    "sum_down_columns = preproc_reviews.sum(axis=0)\n",
    "sum_down_columns.shape"
   ]
  },
  {
   "cell_type": "code",
   "execution_count": 71,
   "metadata": {},
   "outputs": [],
   "source": [
    "pipe_cv = pipeline.named_steps['cv']\n",
    "counts_per_word = list(zip(pipe_cv.get_feature_names(), sum_down_columns.A1))"
   ]
  },
  {
   "cell_type": "code",
   "execution_count": 72,
   "metadata": {},
   "outputs": [
    {
     "data": {
      "text/plain": [
       "[('flashlight', 394),\n",
       " ('light', 383),\n",
       " ('pron', 326),\n",
       " ('bright', 304),\n",
       " ('great', 237),\n",
       " ('work', 212),\n",
       " ('battery', 206),\n",
       " ('good', 193),\n",
       " ('use', 169),\n",
       " ('small', 150)]"
      ]
     },
     "execution_count": 72,
     "metadata": {},
     "output_type": "execute_result"
    }
   ],
   "source": [
    "sorted(counts_per_word, key=lambda t: t[1], reverse=True)[:10]"
   ]
  },
  {
   "cell_type": "code",
   "execution_count": 73,
   "metadata": {},
   "outputs": [],
   "source": [
    "#flashlight should be removed, because these reviews are all about flashlight\n",
    "#remove pron,because for word i, it, its, t.lemma_ will return pron"
   ]
  },
  {
   "cell_type": "code",
   "execution_count": 115,
   "metadata": {},
   "outputs": [],
   "source": [
    "pipeline = Pipeline([('posf', PartOfSpeechFilter()),\n",
    "                     ('cv', CountVectorizer(lowercase=True, stop_words='english'))\n",
    "                   ])\n",
    "\n",
    "pipeline.set_params(**{'posf__stop_words': {'flashlight','-PRON-'}})\n",
    "pipeline.set_params(cv__max_df=0.95, cv__min_df=0.01)\n",
    "\n",
    "preproc_reviews = pipeline.fit_transform(review_list.text)"
   ]
  },
  {
   "cell_type": "code",
   "execution_count": 120,
   "metadata": {},
   "outputs": [
    {
     "data": {
      "text/plain": [
       "(803, 171)"
      ]
     },
     "execution_count": 120,
     "metadata": {},
     "output_type": "execute_result"
    }
   ],
   "source": [
    "preproc_reviews.shape"
   ]
  },
  {
   "cell_type": "code",
   "execution_count": 121,
   "metadata": {},
   "outputs": [
    {
     "data": {
      "text/plain": [
       "(1, 171)"
      ]
     },
     "execution_count": 121,
     "metadata": {},
     "output_type": "execute_result"
    }
   ],
   "source": [
    "sum_down_columns = preproc_reviews.sum(axis=0)\n",
    "sum_down_columns.shape"
   ]
  },
  {
   "cell_type": "code",
   "execution_count": 122,
   "metadata": {},
   "outputs": [
    {
     "data": {
      "text/plain": [
       "[('lens', 383),\n",
       " ('bright', 304),\n",
       " ('good', 237),\n",
       " ('weight', 212),\n",
       " ('battery', 206),\n",
       " ('glove', 193),\n",
       " ('try', 169),\n",
       " ('single', 150),\n",
       " ('like', 117),\n",
       " ('press', 112)]"
      ]
     },
     "execution_count": 122,
     "metadata": {},
     "output_type": "execute_result"
    }
   ],
   "source": [
    "counts_per_word = list(zip(pipe_cv.get_feature_names(), sum_down_columns.A1))\n",
    "sorted(counts_per_word, key=lambda t: t[1], reverse=True)[:10]"
   ]
  },
  {
   "cell_type": "code",
   "execution_count": 130,
   "metadata": {},
   "outputs": [
    {
     "data": {
      "text/plain": [
       "numpy.ndarray"
      ]
     },
     "execution_count": 130,
     "metadata": {},
     "output_type": "execute_result"
    }
   ],
   "source": [
    "type(review_list.score.values)"
   ]
  },
  {
   "cell_type": "code",
   "execution_count": 168,
   "metadata": {},
   "outputs": [],
   "source": [
    "X = preproc_reviews\n",
    "y = review_list.score.values"
   ]
  },
  {
   "cell_type": "code",
   "execution_count": 132,
   "metadata": {},
   "outputs": [],
   "source": [
    "from sklearn.linear_model import LogisticRegression"
   ]
  },
  {
   "cell_type": "code",
   "execution_count": 133,
   "metadata": {},
   "outputs": [
    {
     "data": {
      "text/plain": [
       "LogisticRegression(C=1.0, class_weight=None, dual=False, fit_intercept=True,\n",
       "          intercept_scaling=1, max_iter=100, multi_class='ovr', n_jobs=1,\n",
       "          penalty='l2', random_state=None, solver='liblinear', tol=0.0001,\n",
       "          verbose=0, warm_start=False)"
      ]
     },
     "execution_count": 133,
     "metadata": {},
     "output_type": "execute_result"
    }
   ],
   "source": [
    "lr = LogisticRegression()\n",
    "\n",
    "lr.fit(preproc_reviews, review_list.score.values)"
   ]
  },
  {
   "cell_type": "code",
   "execution_count": 134,
   "metadata": {},
   "outputs": [],
   "source": [
    "from sklearn.metrics import confusion_matrix\n",
    "conf_matrix = confusion_matrix(review_list.score.values, lr.predict(preproc_reviews))"
   ]
  },
  {
   "cell_type": "code",
   "execution_count": 135,
   "metadata": {},
   "outputs": [
    {
     "data": {
      "text/plain": [
       "array([[ 54,   0,   0,   4,  17],\n",
       "       [  8,  27,   0,   1,  14],\n",
       "       [  2,   0,  16,   5,  30],\n",
       "       [  2,   0,   0,  40,  67],\n",
       "       [  2,   1,   1,   5, 507]], dtype=int64)"
      ]
     },
     "execution_count": 135,
     "metadata": {},
     "output_type": "execute_result"
    }
   ],
   "source": [
    "conf_matrix"
   ]
  },
  {
   "cell_type": "code",
   "execution_count": 136,
   "metadata": {},
   "outputs": [
    {
     "data": {
      "text/plain": [
       "0.8019925280199253"
      ]
     },
     "execution_count": 136,
     "metadata": {},
     "output_type": "execute_result"
    }
   ],
   "source": [
    "lr.score(preproc_reviews, review_list.score.values)"
   ]
  },
  {
   "cell_type": "code",
   "execution_count": 137,
   "metadata": {},
   "outputs": [],
   "source": [
    "from sklearn.feature_selection import SelectKBest\n",
    "from sklearn.feature_selection import chi2"
   ]
  },
  {
   "cell_type": "code",
   "execution_count": 148,
   "metadata": {},
   "outputs": [],
   "source": [
    "fs_chi2 = SelectKBest(chi2, k=150)\n",
    "X_kbest = fs_chi2.fit_transform(preproc_reviews.toarray(), review_list.score.values)"
   ]
  },
  {
   "cell_type": "code",
   "execution_count": 149,
   "metadata": {},
   "outputs": [
    {
     "data": {
      "text/plain": [
       "(803, 150)"
      ]
     },
     "execution_count": 149,
     "metadata": {},
     "output_type": "execute_result"
    }
   ],
   "source": [
    "X_kbest.shape"
   ]
  },
  {
   "cell_type": "code",
   "execution_count": 150,
   "metadata": {},
   "outputs": [
    {
     "data": {
      "text/plain": [
       "0.7945205479452054"
      ]
     },
     "execution_count": 150,
     "metadata": {},
     "output_type": "execute_result"
    }
   ],
   "source": [
    "lr.fit(X_kbest, review_list.score.values)\n",
    "lr.score(X_kbest, review_list.score.values)"
   ]
  },
  {
   "cell_type": "code",
   "execution_count": 154,
   "metadata": {},
   "outputs": [],
   "source": [
    "from sklearn.model_selection import cross_val_score"
   ]
  },
  {
   "cell_type": "code",
   "execution_count": 158,
   "metadata": {},
   "outputs": [
    {
     "data": {
      "text/plain": [
       "0.6924887782213861"
      ]
     },
     "execution_count": 158,
     "metadata": {},
     "output_type": "execute_result"
    }
   ],
   "source": [
    "scores = cross_val_score(lr, preproc_reviews, review_list.score.values, cv=10, #sklearn does stratified sampling default\n",
    "                        scoring= 'accuracy',\n",
    "                        \n",
    "                       )\n",
    "scores.mean()"
   ]
  },
  {
   "cell_type": "code",
   "execution_count": 159,
   "metadata": {},
   "outputs": [
    {
     "data": {
      "text/plain": [
       "0.6985697493334881"
      ]
     },
     "execution_count": 159,
     "metadata": {},
     "output_type": "execute_result"
    }
   ],
   "source": [
    "scores = cross_val_score(lr, X_kbest, review_list.score.values, cv=10, \n",
    "                        scoring= 'accuracy',\n",
    "                        \n",
    "                       )\n",
    "scores.mean()"
   ]
  },
  {
   "cell_type": "code",
   "execution_count": 230,
   "metadata": {},
   "outputs": [
    {
     "data": {
      "text/plain": [
       "LogisticRegression(C=1.0, class_weight=None, dual=False, fit_intercept=True,\n",
       "          intercept_scaling=1, max_iter=100, multi_class='multinomial',\n",
       "          n_jobs=1, penalty='l2', random_state=None, solver='lbfgs',\n",
       "          tol=0.0001, verbose=0, warm_start=False)"
      ]
     },
     "execution_count": 230,
     "metadata": {},
     "output_type": "execute_result"
    }
   ],
   "source": [
    "#from the cross validation mean scroe we can find the score is not good in test set. the default solver for multi-class logistic regression is\n",
    "# one vs rest(set a label is 1 and others is 0), use the multi-nominal to see if there can be any improvement\n",
    "lr1 = LogisticRegression(multi_class = 'multinomial', solver = 'lbfgs')\n",
    "lr1.fit(X, y)"
   ]
  },
  {
   "cell_type": "code",
   "execution_count": 231,
   "metadata": {},
   "outputs": [
    {
     "data": {
      "text/plain": [
       "0.8181818181818182"
      ]
     },
     "execution_count": 231,
     "metadata": {},
     "output_type": "execute_result"
    }
   ],
   "source": [
    "lr1.score(X, y)"
   ]
  },
  {
   "cell_type": "code",
   "execution_count": 232,
   "metadata": {},
   "outputs": [
    {
     "data": {
      "text/plain": [
       "0.6786418580295293"
      ]
     },
     "execution_count": 232,
     "metadata": {},
     "output_type": "execute_result"
    }
   ],
   "source": [
    "scores = cross_val_score(lr1, X, y, cv=10, \n",
    "                        scoring= 'accuracy',\n",
    "                        \n",
    "                       )\n",
    "scores.mean()"
   ]
  },
  {
   "cell_type": "code",
   "execution_count": 188,
   "metadata": {},
   "outputs": [
    {
     "data": {
      "text/plain": [
       "array([[ 56,   0,   0,   3,  16],\n",
       "       [  6,  31,   0,   1,  12],\n",
       "       [  1,   0,  20,   3,  29],\n",
       "       [  2,   0,   1,  44,  62],\n",
       "       [  2,   1,   1,   6, 506]], dtype=int64)"
      ]
     },
     "execution_count": 188,
     "metadata": {},
     "output_type": "execute_result"
    }
   ],
   "source": [
    "conf_matrix = confusion_matrix(y, lr1.predict(X))\n",
    "conf_matrix"
   ]
  },
  {
   "cell_type": "code",
   "execution_count": 189,
   "metadata": {},
   "outputs": [
    {
     "data": {
      "text/plain": [
       "0.6835813024255959"
      ]
     },
     "execution_count": 189,
     "metadata": {},
     "output_type": "execute_result"
    }
   ],
   "source": [
    "scores = cross_val_score(lr1, X_kbest, y, cv=10, \n",
    "                        scoring= 'accuracy',\n",
    "                        \n",
    "                       )\n",
    "scores.mean()"
   ]
  },
  {
   "cell_type": "code",
   "execution_count": null,
   "metadata": {},
   "outputs": [],
   "source": []
  },
  {
   "cell_type": "code",
   "execution_count": 190,
   "metadata": {},
   "outputs": [],
   "source": [
    "pipeline = Pipeline([('posf', PartOfSpeechFilter()),\n",
    "                     ('cv', CountVectorizer(lowercase=True))\n",
    "                   ])\n",
    "\n",
    "pipeline.set_params(**{'posf__stop_words': {'flashlight','-PRON-'}})\n",
    "pipeline.set_params(cv__max_df=0.95, cv__min_df=0.01)\n",
    "\n",
    "preproc_reviews_withstop = pipeline.fit_transform(review_list.text)# get the data with the stop words not dropped"
   ]
  },
  {
   "cell_type": "code",
   "execution_count": 210,
   "metadata": {},
   "outputs": [
    {
     "data": {
      "text/plain": [
       "(803, 209)"
      ]
     },
     "execution_count": 210,
     "metadata": {},
     "output_type": "execute_result"
    }
   ],
   "source": [
    "preproc_reviews_withstop.shape"
   ]
  },
  {
   "cell_type": "code",
   "execution_count": 203,
   "metadata": {},
   "outputs": [
    {
     "data": {
      "text/plain": [
       "0.8468244084682441"
      ]
     },
     "execution_count": 203,
     "metadata": {},
     "output_type": "execute_result"
    }
   ],
   "source": [
    "lr.fit(preproc_reviews_withstop, y)\n",
    "lr.score(preproc_reviews_withstop, y)"
   ]
  },
  {
   "cell_type": "code",
   "execution_count": 202,
   "metadata": {},
   "outputs": [
    {
     "data": {
      "text/plain": [
       "0.863013698630137"
      ]
     },
     "execution_count": 202,
     "metadata": {},
     "output_type": "execute_result"
    }
   ],
   "source": [
    "lr1.fit(preproc_reviews_withstop, y)\n",
    "lr1.score(preproc_reviews_withstop, y)"
   ]
  },
  {
   "cell_type": "code",
   "execution_count": 191,
   "metadata": {},
   "outputs": [
    {
     "data": {
      "text/plain": [
       "0.6862435137320647"
      ]
     },
     "execution_count": 191,
     "metadata": {},
     "output_type": "execute_result"
    }
   ],
   "source": [
    "scores = cross_val_score(lr, preproc_reviews_withstop, y, cv=10, \n",
    "                        scoring= 'accuracy',\n",
    "                        \n",
    "                       )\n",
    "scores.mean()"
   ]
  },
  {
   "cell_type": "code",
   "execution_count": 192,
   "metadata": {},
   "outputs": [
    {
     "data": {
      "text/plain": [
       "0.6848989526828623"
      ]
     },
     "execution_count": 192,
     "metadata": {},
     "output_type": "execute_result"
    }
   ],
   "source": [
    "scores = cross_val_score(lr1,preproc_reviews_withstop, y, cv=10, \n",
    "                        scoring= 'accuracy',\n",
    "                        \n",
    "                       )\n",
    "scores.mean()"
   ]
  },
  {
   "cell_type": "markdown",
   "metadata": {},
   "source": [
    "##### from the score above use the word with stop words not dropped not improve the score much, but the accuacy score in all data is improved from 80% to 86%, which there have overfitting problem. Next, I will use gridcv and pipeline to find the best number of feature using cni2 test and parameter in logistic regression."
   ]
  },
  {
   "cell_type": "code",
   "execution_count": 196,
   "metadata": {},
   "outputs": [],
   "source": [
    "import numpy as np"
   ]
  },
  {
   "cell_type": "code",
   "execution_count": 201,
   "metadata": {},
   "outputs": [
    {
     "data": {
      "text/plain": [
       "array([ 1,  3,  5,  7,  9, 11, 13, 15, 17, 19, 21, 23, 25, 27, 29, 31, 33,\n",
       "       35, 37, 39, 41, 43, 45, 47, 49, 51, 53, 55, 57, 59, 61, 63, 65, 67,\n",
       "       69, 71, 73, 75, 77, 79, 81, 83, 85, 87, 89, 91, 93, 95, 97, 99])"
      ]
     },
     "execution_count": 201,
     "metadata": {},
     "output_type": "execute_result"
    }
   ],
   "source": [
    "np.arange(1,100,2)"
   ]
  },
  {
   "cell_type": "code",
   "execution_count": 299,
   "metadata": {},
   "outputs": [],
   "source": [
    "from sklearn.model_selection import GridSearchCV"
   ]
  },
  {
   "cell_type": "code",
   "execution_count": 300,
   "metadata": {},
   "outputs": [],
   "source": [
    "c_range = np.linspace(0.1, 1e5,10 )\n",
    "tol_range = [1e-4,1e-3,1e-2,1e-1]\n"
   ]
  },
  {
   "cell_type": "code",
   "execution_count": 301,
   "metadata": {},
   "outputs": [],
   "source": [
    "#use grid search to find the best parameter\n",
    "param_grid = dict(penalty = ['l1','l2'],\n",
    "                  C = c_range,\n",
    "                  multi_class = ['multinomial','ovr'],\n",
    "                  solver = ['saga'],\n",
    "                  class_weight =[None,'balanced'],\n",
    "                  tol = tol_range\n",
    "                 \n",
    "                 )"
   ]
  },
  {
   "cell_type": "code",
   "execution_count": 302,
   "metadata": {},
   "outputs": [],
   "source": [
    "grid_search = GridSearchCV(LogisticRegression(), param_grid=param_grid, n_jobs=3,cv =10,scoring= 'accuracy')"
   ]
  },
  {
   "cell_type": "code",
   "execution_count": 303,
   "metadata": {},
   "outputs": [
    {
     "name": "stderr",
     "output_type": "stream",
     "text": [
      "C:\\Users\\TEMP\\Anaconda3\\envs\\nlp\\lib\\site-packages\\sklearn\\linear_model\\sag.py:326: ConvergenceWarning: The max_iter was reached which means the coef_ did not converge\n",
      "  \"the coef_ did not converge\", ConvergenceWarning)\n"
     ]
    },
    {
     "data": {
      "text/plain": [
       "GridSearchCV(cv=10, error_score='raise',\n",
       "       estimator=LogisticRegression(C=1.0, class_weight=None, dual=False, fit_intercept=True,\n",
       "          intercept_scaling=1, max_iter=100, multi_class='ovr', n_jobs=1,\n",
       "          penalty='l2', random_state=None, solver='liblinear', tol=0.0001,\n",
       "          verbose=0, warm_start=False),\n",
       "       fit_params=None, iid=True, n_jobs=3,\n",
       "       param_grid={'penalty': ['l1', 'l2'], 'C': array([1.00000e-01, 1.11112e+04, 2.22223e+04, 3.33334e+04, 4.44445e+04,\n",
       "       5.55556e+04, 6.66667e+04, 7.77778e+04, 8.88889e+04, 1.00000e+05]), 'multi_class': ['multinomial', 'ovr'], 'solver': ['saga'], 'class_weight': [None, 'balanced'], 'tol': [0.0001, 0.001, 0.01, 0.1]},\n",
       "       pre_dispatch='2*n_jobs', refit=True, return_train_score='warn',\n",
       "       scoring='accuracy', verbose=0)"
      ]
     },
     "execution_count": 303,
     "metadata": {},
     "output_type": "execute_result"
    }
   ],
   "source": [
    "grid_search.fit(preproc_reviews_withstop, y)"
   ]
  },
  {
   "cell_type": "code",
   "execution_count": 304,
   "metadata": {},
   "outputs": [
    {
     "data": {
      "text/plain": [
       "{'C': 44444.49999999999,\n",
       " 'class_weight': None,\n",
       " 'multi_class': 'multinomial',\n",
       " 'penalty': 'l1',\n",
       " 'solver': 'saga',\n",
       " 'tol': 0.0001}"
      ]
     },
     "execution_count": 304,
     "metadata": {},
     "output_type": "execute_result"
    }
   ],
   "source": [
    "grid_search.best_params_"
   ]
  },
  {
   "cell_type": "code",
   "execution_count": 309,
   "metadata": {
    "scrolled": true
   },
   "outputs": [
    {
     "data": {
      "text/plain": [
       "0.6911581569115816"
      ]
     },
     "execution_count": 309,
     "metadata": {},
     "output_type": "execute_result"
    }
   ],
   "source": [
    "grid_search.cv_results_['mean_test_score'].max()"
   ]
  },
  {
   "cell_type": "code",
   "execution_count": null,
   "metadata": {},
   "outputs": [],
   "source": [
    "lr3 = LogisticRegression(C =44444.49999999999, multi_class ='multinomial' )#because only saga can handle l1 penalty"
   ]
  },
  {
   "cell_type": "code",
   "execution_count": 314,
   "metadata": {},
   "outputs": [
    {
     "name": "stderr",
     "output_type": "stream",
     "text": [
      "C:\\Users\\TEMP\\Anaconda3\\envs\\nlp\\lib\\site-packages\\sklearn\\linear_model\\sag.py:326: ConvergenceWarning: The max_iter was reached which means the coef_ did not converge\n",
      "  \"the coef_ did not converge\", ConvergenceWarning)\n"
     ]
    },
    {
     "data": {
      "text/plain": [
       "{'penalty': 'l2', 'solver': 'saga'}"
      ]
     },
     "execution_count": 314,
     "metadata": {},
     "output_type": "execute_result"
    }
   ],
   "source": [
    "param_grid2= dict(solver = ['newton-cg','sag','saga','lbfgs'],penalty = ['l2'])#find the best solver\n",
    "grid_search_solver = GridSearchCV(lr3, param_grid=param_grid2, n_jobs=3,cv =10,scoring= 'accuracy')\n",
    "grid_search_solver.fit(preproc_reviews_withstop, y)\n",
    "grid_search_solver.best_params_#saga still is the best splver"
   ]
  },
  {
   "cell_type": "code",
   "execution_count": 315,
   "metadata": {},
   "outputs": [
    {
     "name": "stderr",
     "output_type": "stream",
     "text": [
      "C:\\Users\\TEMP\\Anaconda3\\envs\\nlp\\lib\\site-packages\\sklearn\\linear_model\\sag.py:326: ConvergenceWarning: The max_iter was reached which means the coef_ did not converge\n",
      "  \"the coef_ did not converge\", ConvergenceWarning)\n"
     ]
    },
    {
     "data": {
      "text/plain": [
       "{'penalty': 'l2', 'solver': 'saga'}"
      ]
     },
     "execution_count": 315,
     "metadata": {},
     "output_type": "execute_result"
    }
   ],
   "source": [
    "param_grid3= dict(solver = ['saga'],penalty = ['l1','l2'])#find the best solver\n",
    "grid_search_penalty = GridSearchCV(lr3, param_grid=param_grid2, n_jobs=3,cv =10,scoring= 'accuracy')\n",
    "grid_search_penalty.fit(preproc_reviews_withstop, y)\n",
    "grid_search_penalty.best_params_#select penalty as l2"
   ]
  },
  {
   "cell_type": "code",
   "execution_count": 316,
   "metadata": {},
   "outputs": [],
   "source": [
    "lr4 = LogisticRegression(C =44444.49999999999, multi_class ='multinomial',solver= 'saga',penalty = 'l2',tol = 0.0001,class_weight = None )"
   ]
  },
  {
   "cell_type": "code",
   "execution_count": 317,
   "metadata": {},
   "outputs": [
    {
     "name": "stderr",
     "output_type": "stream",
     "text": [
      "C:\\Users\\TEMP\\Anaconda3\\envs\\nlp\\lib\\site-packages\\sklearn\\linear_model\\sag.py:326: ConvergenceWarning: The max_iter was reached which means the coef_ did not converge\n",
      "  \"the coef_ did not converge\", ConvergenceWarning)\n",
      "C:\\Users\\TEMP\\Anaconda3\\envs\\nlp\\lib\\site-packages\\sklearn\\linear_model\\sag.py:326: ConvergenceWarning: The max_iter was reached which means the coef_ did not converge\n",
      "  \"the coef_ did not converge\", ConvergenceWarning)\n",
      "C:\\Users\\TEMP\\Anaconda3\\envs\\nlp\\lib\\site-packages\\sklearn\\linear_model\\sag.py:326: ConvergenceWarning: The max_iter was reached which means the coef_ did not converge\n",
      "  \"the coef_ did not converge\", ConvergenceWarning)\n",
      "C:\\Users\\TEMP\\Anaconda3\\envs\\nlp\\lib\\site-packages\\sklearn\\linear_model\\sag.py:326: ConvergenceWarning: The max_iter was reached which means the coef_ did not converge\n",
      "  \"the coef_ did not converge\", ConvergenceWarning)\n",
      "C:\\Users\\TEMP\\Anaconda3\\envs\\nlp\\lib\\site-packages\\sklearn\\linear_model\\sag.py:326: ConvergenceWarning: The max_iter was reached which means the coef_ did not converge\n",
      "  \"the coef_ did not converge\", ConvergenceWarning)\n",
      "C:\\Users\\TEMP\\Anaconda3\\envs\\nlp\\lib\\site-packages\\sklearn\\linear_model\\sag.py:326: ConvergenceWarning: The max_iter was reached which means the coef_ did not converge\n",
      "  \"the coef_ did not converge\", ConvergenceWarning)\n",
      "C:\\Users\\TEMP\\Anaconda3\\envs\\nlp\\lib\\site-packages\\sklearn\\linear_model\\sag.py:326: ConvergenceWarning: The max_iter was reached which means the coef_ did not converge\n",
      "  \"the coef_ did not converge\", ConvergenceWarning)\n",
      "C:\\Users\\TEMP\\Anaconda3\\envs\\nlp\\lib\\site-packages\\sklearn\\linear_model\\sag.py:326: ConvergenceWarning: The max_iter was reached which means the coef_ did not converge\n",
      "  \"the coef_ did not converge\", ConvergenceWarning)\n",
      "C:\\Users\\TEMP\\Anaconda3\\envs\\nlp\\lib\\site-packages\\sklearn\\linear_model\\sag.py:326: ConvergenceWarning: The max_iter was reached which means the coef_ did not converge\n",
      "  \"the coef_ did not converge\", ConvergenceWarning)\n",
      "C:\\Users\\TEMP\\Anaconda3\\envs\\nlp\\lib\\site-packages\\sklearn\\linear_model\\sag.py:326: ConvergenceWarning: The max_iter was reached which means the coef_ did not converge\n",
      "  \"the coef_ did not converge\", ConvergenceWarning)\n",
      "C:\\Users\\TEMP\\Anaconda3\\envs\\nlp\\lib\\site-packages\\sklearn\\linear_model\\sag.py:326: ConvergenceWarning: The max_iter was reached which means the coef_ did not converge\n",
      "  \"the coef_ did not converge\", ConvergenceWarning)\n",
      "C:\\Users\\TEMP\\Anaconda3\\envs\\nlp\\lib\\site-packages\\sklearn\\linear_model\\sag.py:326: ConvergenceWarning: The max_iter was reached which means the coef_ did not converge\n",
      "  \"the coef_ did not converge\", ConvergenceWarning)\n",
      "C:\\Users\\TEMP\\Anaconda3\\envs\\nlp\\lib\\site-packages\\sklearn\\linear_model\\sag.py:326: ConvergenceWarning: The max_iter was reached which means the coef_ did not converge\n",
      "  \"the coef_ did not converge\", ConvergenceWarning)\n",
      "C:\\Users\\TEMP\\Anaconda3\\envs\\nlp\\lib\\site-packages\\sklearn\\linear_model\\sag.py:326: ConvergenceWarning: The max_iter was reached which means the coef_ did not converge\n",
      "  \"the coef_ did not converge\", ConvergenceWarning)\n",
      "C:\\Users\\TEMP\\Anaconda3\\envs\\nlp\\lib\\site-packages\\sklearn\\linear_model\\sag.py:326: ConvergenceWarning: The max_iter was reached which means the coef_ did not converge\n",
      "  \"the coef_ did not converge\", ConvergenceWarning)\n",
      "C:\\Users\\TEMP\\Anaconda3\\envs\\nlp\\lib\\site-packages\\sklearn\\linear_model\\sag.py:326: ConvergenceWarning: The max_iter was reached which means the coef_ did not converge\n",
      "  \"the coef_ did not converge\", ConvergenceWarning)\n",
      "C:\\Users\\TEMP\\Anaconda3\\envs\\nlp\\lib\\site-packages\\sklearn\\linear_model\\sag.py:326: ConvergenceWarning: The max_iter was reached which means the coef_ did not converge\n",
      "  \"the coef_ did not converge\", ConvergenceWarning)\n",
      "C:\\Users\\TEMP\\Anaconda3\\envs\\nlp\\lib\\site-packages\\sklearn\\linear_model\\sag.py:326: ConvergenceWarning: The max_iter was reached which means the coef_ did not converge\n",
      "  \"the coef_ did not converge\", ConvergenceWarning)\n",
      "C:\\Users\\TEMP\\Anaconda3\\envs\\nlp\\lib\\site-packages\\sklearn\\linear_model\\sag.py:326: ConvergenceWarning: The max_iter was reached which means the coef_ did not converge\n",
      "  \"the coef_ did not converge\", ConvergenceWarning)\n",
      "C:\\Users\\TEMP\\Anaconda3\\envs\\nlp\\lib\\site-packages\\sklearn\\linear_model\\sag.py:326: ConvergenceWarning: The max_iter was reached which means the coef_ did not converge\n",
      "  \"the coef_ did not converge\", ConvergenceWarning)\n",
      "C:\\Users\\TEMP\\Anaconda3\\envs\\nlp\\lib\\site-packages\\sklearn\\linear_model\\sag.py:326: ConvergenceWarning: The max_iter was reached which means the coef_ did not converge\n",
      "  \"the coef_ did not converge\", ConvergenceWarning)\n",
      "C:\\Users\\TEMP\\Anaconda3\\envs\\nlp\\lib\\site-packages\\sklearn\\linear_model\\sag.py:326: ConvergenceWarning: The max_iter was reached which means the coef_ did not converge\n",
      "  \"the coef_ did not converge\", ConvergenceWarning)\n",
      "C:\\Users\\TEMP\\Anaconda3\\envs\\nlp\\lib\\site-packages\\sklearn\\linear_model\\sag.py:326: ConvergenceWarning: The max_iter was reached which means the coef_ did not converge\n",
      "  \"the coef_ did not converge\", ConvergenceWarning)\n",
      "C:\\Users\\TEMP\\Anaconda3\\envs\\nlp\\lib\\site-packages\\sklearn\\linear_model\\sag.py:326: ConvergenceWarning: The max_iter was reached which means the coef_ did not converge\n",
      "  \"the coef_ did not converge\", ConvergenceWarning)\n",
      "C:\\Users\\TEMP\\Anaconda3\\envs\\nlp\\lib\\site-packages\\sklearn\\linear_model\\sag.py:326: ConvergenceWarning: The max_iter was reached which means the coef_ did not converge\n",
      "  \"the coef_ did not converge\", ConvergenceWarning)\n",
      "C:\\Users\\TEMP\\Anaconda3\\envs\\nlp\\lib\\site-packages\\sklearn\\linear_model\\sag.py:326: ConvergenceWarning: The max_iter was reached which means the coef_ did not converge\n",
      "  \"the coef_ did not converge\", ConvergenceWarning)\n",
      "C:\\Users\\TEMP\\Anaconda3\\envs\\nlp\\lib\\site-packages\\sklearn\\linear_model\\sag.py:326: ConvergenceWarning: The max_iter was reached which means the coef_ did not converge\n",
      "  \"the coef_ did not converge\", ConvergenceWarning)\n",
      "C:\\Users\\TEMP\\Anaconda3\\envs\\nlp\\lib\\site-packages\\sklearn\\linear_model\\sag.py:326: ConvergenceWarning: The max_iter was reached which means the coef_ did not converge\n",
      "  \"the coef_ did not converge\", ConvergenceWarning)\n",
      "C:\\Users\\TEMP\\Anaconda3\\envs\\nlp\\lib\\site-packages\\sklearn\\linear_model\\sag.py:326: ConvergenceWarning: The max_iter was reached which means the coef_ did not converge\n",
      "  \"the coef_ did not converge\", ConvergenceWarning)\n",
      "C:\\Users\\TEMP\\Anaconda3\\envs\\nlp\\lib\\site-packages\\sklearn\\linear_model\\sag.py:326: ConvergenceWarning: The max_iter was reached which means the coef_ did not converge\n",
      "  \"the coef_ did not converge\", ConvergenceWarning)\n",
      "C:\\Users\\TEMP\\Anaconda3\\envs\\nlp\\lib\\site-packages\\sklearn\\linear_model\\sag.py:326: ConvergenceWarning: The max_iter was reached which means the coef_ did not converge\n",
      "  \"the coef_ did not converge\", ConvergenceWarning)\n",
      "C:\\Users\\TEMP\\Anaconda3\\envs\\nlp\\lib\\site-packages\\sklearn\\linear_model\\sag.py:326: ConvergenceWarning: The max_iter was reached which means the coef_ did not converge\n",
      "  \"the coef_ did not converge\", ConvergenceWarning)\n",
      "C:\\Users\\TEMP\\Anaconda3\\envs\\nlp\\lib\\site-packages\\sklearn\\linear_model\\sag.py:326: ConvergenceWarning: The max_iter was reached which means the coef_ did not converge\n",
      "  \"the coef_ did not converge\", ConvergenceWarning)\n",
      "C:\\Users\\TEMP\\Anaconda3\\envs\\nlp\\lib\\site-packages\\sklearn\\linear_model\\sag.py:326: ConvergenceWarning: The max_iter was reached which means the coef_ did not converge\n",
      "  \"the coef_ did not converge\", ConvergenceWarning)\n",
      "C:\\Users\\TEMP\\Anaconda3\\envs\\nlp\\lib\\site-packages\\sklearn\\linear_model\\sag.py:326: ConvergenceWarning: The max_iter was reached which means the coef_ did not converge\n",
      "  \"the coef_ did not converge\", ConvergenceWarning)\n",
      "C:\\Users\\TEMP\\Anaconda3\\envs\\nlp\\lib\\site-packages\\sklearn\\linear_model\\sag.py:326: ConvergenceWarning: The max_iter was reached which means the coef_ did not converge\n",
      "  \"the coef_ did not converge\", ConvergenceWarning)\n",
      "C:\\Users\\TEMP\\Anaconda3\\envs\\nlp\\lib\\site-packages\\sklearn\\linear_model\\sag.py:326: ConvergenceWarning: The max_iter was reached which means the coef_ did not converge\n",
      "  \"the coef_ did not converge\", ConvergenceWarning)\n",
      "C:\\Users\\TEMP\\Anaconda3\\envs\\nlp\\lib\\site-packages\\sklearn\\linear_model\\sag.py:326: ConvergenceWarning: The max_iter was reached which means the coef_ did not converge\n",
      "  \"the coef_ did not converge\", ConvergenceWarning)\n"
     ]
    },
    {
     "name": "stderr",
     "output_type": "stream",
     "text": [
      "C:\\Users\\TEMP\\Anaconda3\\envs\\nlp\\lib\\site-packages\\sklearn\\linear_model\\sag.py:326: ConvergenceWarning: The max_iter was reached which means the coef_ did not converge\n",
      "  \"the coef_ did not converge\", ConvergenceWarning)\n",
      "C:\\Users\\TEMP\\Anaconda3\\envs\\nlp\\lib\\site-packages\\sklearn\\linear_model\\sag.py:326: ConvergenceWarning: The max_iter was reached which means the coef_ did not converge\n",
      "  \"the coef_ did not converge\", ConvergenceWarning)\n",
      "C:\\Users\\TEMP\\Anaconda3\\envs\\nlp\\lib\\site-packages\\sklearn\\linear_model\\sag.py:326: ConvergenceWarning: The max_iter was reached which means the coef_ did not converge\n",
      "  \"the coef_ did not converge\", ConvergenceWarning)\n",
      "C:\\Users\\TEMP\\Anaconda3\\envs\\nlp\\lib\\site-packages\\sklearn\\linear_model\\sag.py:326: ConvergenceWarning: The max_iter was reached which means the coef_ did not converge\n",
      "  \"the coef_ did not converge\", ConvergenceWarning)\n",
      "C:\\Users\\TEMP\\Anaconda3\\envs\\nlp\\lib\\site-packages\\sklearn\\linear_model\\sag.py:326: ConvergenceWarning: The max_iter was reached which means the coef_ did not converge\n",
      "  \"the coef_ did not converge\", ConvergenceWarning)\n",
      "C:\\Users\\TEMP\\Anaconda3\\envs\\nlp\\lib\\site-packages\\sklearn\\linear_model\\sag.py:326: ConvergenceWarning: The max_iter was reached which means the coef_ did not converge\n",
      "  \"the coef_ did not converge\", ConvergenceWarning)\n",
      "C:\\Users\\TEMP\\Anaconda3\\envs\\nlp\\lib\\site-packages\\sklearn\\linear_model\\sag.py:326: ConvergenceWarning: The max_iter was reached which means the coef_ did not converge\n",
      "  \"the coef_ did not converge\", ConvergenceWarning)\n",
      "C:\\Users\\TEMP\\Anaconda3\\envs\\nlp\\lib\\site-packages\\sklearn\\linear_model\\sag.py:326: ConvergenceWarning: The max_iter was reached which means the coef_ did not converge\n",
      "  \"the coef_ did not converge\", ConvergenceWarning)\n",
      "C:\\Users\\TEMP\\Anaconda3\\envs\\nlp\\lib\\site-packages\\sklearn\\linear_model\\sag.py:326: ConvergenceWarning: The max_iter was reached which means the coef_ did not converge\n",
      "  \"the coef_ did not converge\", ConvergenceWarning)\n",
      "C:\\Users\\TEMP\\Anaconda3\\envs\\nlp\\lib\\site-packages\\sklearn\\linear_model\\sag.py:326: ConvergenceWarning: The max_iter was reached which means the coef_ did not converge\n",
      "  \"the coef_ did not converge\", ConvergenceWarning)\n",
      "C:\\Users\\TEMP\\Anaconda3\\envs\\nlp\\lib\\site-packages\\sklearn\\linear_model\\sag.py:326: ConvergenceWarning: The max_iter was reached which means the coef_ did not converge\n",
      "  \"the coef_ did not converge\", ConvergenceWarning)\n",
      "C:\\Users\\TEMP\\Anaconda3\\envs\\nlp\\lib\\site-packages\\sklearn\\linear_model\\sag.py:326: ConvergenceWarning: The max_iter was reached which means the coef_ did not converge\n",
      "  \"the coef_ did not converge\", ConvergenceWarning)\n",
      "C:\\Users\\TEMP\\Anaconda3\\envs\\nlp\\lib\\site-packages\\sklearn\\linear_model\\sag.py:326: ConvergenceWarning: The max_iter was reached which means the coef_ did not converge\n",
      "  \"the coef_ did not converge\", ConvergenceWarning)\n",
      "C:\\Users\\TEMP\\Anaconda3\\envs\\nlp\\lib\\site-packages\\sklearn\\linear_model\\sag.py:326: ConvergenceWarning: The max_iter was reached which means the coef_ did not converge\n",
      "  \"the coef_ did not converge\", ConvergenceWarning)\n",
      "C:\\Users\\TEMP\\Anaconda3\\envs\\nlp\\lib\\site-packages\\sklearn\\linear_model\\sag.py:326: ConvergenceWarning: The max_iter was reached which means the coef_ did not converge\n",
      "  \"the coef_ did not converge\", ConvergenceWarning)\n",
      "C:\\Users\\TEMP\\Anaconda3\\envs\\nlp\\lib\\site-packages\\sklearn\\linear_model\\sag.py:326: ConvergenceWarning: The max_iter was reached which means the coef_ did not converge\n",
      "  \"the coef_ did not converge\", ConvergenceWarning)\n",
      "C:\\Users\\TEMP\\Anaconda3\\envs\\nlp\\lib\\site-packages\\sklearn\\linear_model\\sag.py:326: ConvergenceWarning: The max_iter was reached which means the coef_ did not converge\n",
      "  \"the coef_ did not converge\", ConvergenceWarning)\n",
      "C:\\Users\\TEMP\\Anaconda3\\envs\\nlp\\lib\\site-packages\\sklearn\\linear_model\\sag.py:326: ConvergenceWarning: The max_iter was reached which means the coef_ did not converge\n",
      "  \"the coef_ did not converge\", ConvergenceWarning)\n",
      "C:\\Users\\TEMP\\Anaconda3\\envs\\nlp\\lib\\site-packages\\sklearn\\linear_model\\sag.py:326: ConvergenceWarning: The max_iter was reached which means the coef_ did not converge\n",
      "  \"the coef_ did not converge\", ConvergenceWarning)\n",
      "C:\\Users\\TEMP\\Anaconda3\\envs\\nlp\\lib\\site-packages\\sklearn\\linear_model\\sag.py:326: ConvergenceWarning: The max_iter was reached which means the coef_ did not converge\n",
      "  \"the coef_ did not converge\", ConvergenceWarning)\n",
      "C:\\Users\\TEMP\\Anaconda3\\envs\\nlp\\lib\\site-packages\\sklearn\\linear_model\\sag.py:326: ConvergenceWarning: The max_iter was reached which means the coef_ did not converge\n",
      "  \"the coef_ did not converge\", ConvergenceWarning)\n",
      "C:\\Users\\TEMP\\Anaconda3\\envs\\nlp\\lib\\site-packages\\sklearn\\linear_model\\sag.py:326: ConvergenceWarning: The max_iter was reached which means the coef_ did not converge\n",
      "  \"the coef_ did not converge\", ConvergenceWarning)\n",
      "C:\\Users\\TEMP\\Anaconda3\\envs\\nlp\\lib\\site-packages\\sklearn\\linear_model\\sag.py:326: ConvergenceWarning: The max_iter was reached which means the coef_ did not converge\n",
      "  \"the coef_ did not converge\", ConvergenceWarning)\n",
      "C:\\Users\\TEMP\\Anaconda3\\envs\\nlp\\lib\\site-packages\\sklearn\\linear_model\\sag.py:326: ConvergenceWarning: The max_iter was reached which means the coef_ did not converge\n",
      "  \"the coef_ did not converge\", ConvergenceWarning)\n",
      "C:\\Users\\TEMP\\Anaconda3\\envs\\nlp\\lib\\site-packages\\sklearn\\linear_model\\sag.py:326: ConvergenceWarning: The max_iter was reached which means the coef_ did not converge\n",
      "  \"the coef_ did not converge\", ConvergenceWarning)\n",
      "C:\\Users\\TEMP\\Anaconda3\\envs\\nlp\\lib\\site-packages\\sklearn\\linear_model\\sag.py:326: ConvergenceWarning: The max_iter was reached which means the coef_ did not converge\n",
      "  \"the coef_ did not converge\", ConvergenceWarning)\n",
      "C:\\Users\\TEMP\\Anaconda3\\envs\\nlp\\lib\\site-packages\\sklearn\\linear_model\\sag.py:326: ConvergenceWarning: The max_iter was reached which means the coef_ did not converge\n",
      "  \"the coef_ did not converge\", ConvergenceWarning)\n",
      "C:\\Users\\TEMP\\Anaconda3\\envs\\nlp\\lib\\site-packages\\sklearn\\linear_model\\sag.py:326: ConvergenceWarning: The max_iter was reached which means the coef_ did not converge\n",
      "  \"the coef_ did not converge\", ConvergenceWarning)\n",
      "C:\\Users\\TEMP\\Anaconda3\\envs\\nlp\\lib\\site-packages\\sklearn\\linear_model\\sag.py:326: ConvergenceWarning: The max_iter was reached which means the coef_ did not converge\n",
      "  \"the coef_ did not converge\", ConvergenceWarning)\n",
      "C:\\Users\\TEMP\\Anaconda3\\envs\\nlp\\lib\\site-packages\\sklearn\\linear_model\\sag.py:326: ConvergenceWarning: The max_iter was reached which means the coef_ did not converge\n",
      "  \"the coef_ did not converge\", ConvergenceWarning)\n",
      "C:\\Users\\TEMP\\Anaconda3\\envs\\nlp\\lib\\site-packages\\sklearn\\linear_model\\sag.py:326: ConvergenceWarning: The max_iter was reached which means the coef_ did not converge\n",
      "  \"the coef_ did not converge\", ConvergenceWarning)\n",
      "C:\\Users\\TEMP\\Anaconda3\\envs\\nlp\\lib\\site-packages\\sklearn\\linear_model\\sag.py:326: ConvergenceWarning: The max_iter was reached which means the coef_ did not converge\n",
      "  \"the coef_ did not converge\", ConvergenceWarning)\n",
      "C:\\Users\\TEMP\\Anaconda3\\envs\\nlp\\lib\\site-packages\\sklearn\\linear_model\\sag.py:326: ConvergenceWarning: The max_iter was reached which means the coef_ did not converge\n",
      "  \"the coef_ did not converge\", ConvergenceWarning)\n",
      "C:\\Users\\TEMP\\Anaconda3\\envs\\nlp\\lib\\site-packages\\sklearn\\linear_model\\sag.py:326: ConvergenceWarning: The max_iter was reached which means the coef_ did not converge\n",
      "  \"the coef_ did not converge\", ConvergenceWarning)\n",
      "C:\\Users\\TEMP\\Anaconda3\\envs\\nlp\\lib\\site-packages\\sklearn\\linear_model\\sag.py:326: ConvergenceWarning: The max_iter was reached which means the coef_ did not converge\n",
      "  \"the coef_ did not converge\", ConvergenceWarning)\n",
      "C:\\Users\\TEMP\\Anaconda3\\envs\\nlp\\lib\\site-packages\\sklearn\\linear_model\\sag.py:326: ConvergenceWarning: The max_iter was reached which means the coef_ did not converge\n",
      "  \"the coef_ did not converge\", ConvergenceWarning)\n",
      "C:\\Users\\TEMP\\Anaconda3\\envs\\nlp\\lib\\site-packages\\sklearn\\linear_model\\sag.py:326: ConvergenceWarning: The max_iter was reached which means the coef_ did not converge\n",
      "  \"the coef_ did not converge\", ConvergenceWarning)\n",
      "C:\\Users\\TEMP\\Anaconda3\\envs\\nlp\\lib\\site-packages\\sklearn\\linear_model\\sag.py:326: ConvergenceWarning: The max_iter was reached which means the coef_ did not converge\n",
      "  \"the coef_ did not converge\", ConvergenceWarning)\n"
     ]
    },
    {
     "name": "stderr",
     "output_type": "stream",
     "text": [
      "C:\\Users\\TEMP\\Anaconda3\\envs\\nlp\\lib\\site-packages\\sklearn\\linear_model\\sag.py:326: ConvergenceWarning: The max_iter was reached which means the coef_ did not converge\n",
      "  \"the coef_ did not converge\", ConvergenceWarning)\n",
      "C:\\Users\\TEMP\\Anaconda3\\envs\\nlp\\lib\\site-packages\\sklearn\\linear_model\\sag.py:326: ConvergenceWarning: The max_iter was reached which means the coef_ did not converge\n",
      "  \"the coef_ did not converge\", ConvergenceWarning)\n",
      "C:\\Users\\TEMP\\Anaconda3\\envs\\nlp\\lib\\site-packages\\sklearn\\linear_model\\sag.py:326: ConvergenceWarning: The max_iter was reached which means the coef_ did not converge\n",
      "  \"the coef_ did not converge\", ConvergenceWarning)\n",
      "C:\\Users\\TEMP\\Anaconda3\\envs\\nlp\\lib\\site-packages\\sklearn\\linear_model\\sag.py:326: ConvergenceWarning: The max_iter was reached which means the coef_ did not converge\n",
      "  \"the coef_ did not converge\", ConvergenceWarning)\n",
      "C:\\Users\\TEMP\\Anaconda3\\envs\\nlp\\lib\\site-packages\\sklearn\\linear_model\\sag.py:326: ConvergenceWarning: The max_iter was reached which means the coef_ did not converge\n",
      "  \"the coef_ did not converge\", ConvergenceWarning)\n",
      "C:\\Users\\TEMP\\Anaconda3\\envs\\nlp\\lib\\site-packages\\sklearn\\linear_model\\sag.py:326: ConvergenceWarning: The max_iter was reached which means the coef_ did not converge\n",
      "  \"the coef_ did not converge\", ConvergenceWarning)\n",
      "C:\\Users\\TEMP\\Anaconda3\\envs\\nlp\\lib\\site-packages\\sklearn\\linear_model\\sag.py:326: ConvergenceWarning: The max_iter was reached which means the coef_ did not converge\n",
      "  \"the coef_ did not converge\", ConvergenceWarning)\n",
      "C:\\Users\\TEMP\\Anaconda3\\envs\\nlp\\lib\\site-packages\\sklearn\\linear_model\\sag.py:326: ConvergenceWarning: The max_iter was reached which means the coef_ did not converge\n",
      "  \"the coef_ did not converge\", ConvergenceWarning)\n",
      "C:\\Users\\TEMP\\Anaconda3\\envs\\nlp\\lib\\site-packages\\sklearn\\linear_model\\sag.py:326: ConvergenceWarning: The max_iter was reached which means the coef_ did not converge\n",
      "  \"the coef_ did not converge\", ConvergenceWarning)\n",
      "C:\\Users\\TEMP\\Anaconda3\\envs\\nlp\\lib\\site-packages\\sklearn\\linear_model\\sag.py:326: ConvergenceWarning: The max_iter was reached which means the coef_ did not converge\n",
      "  \"the coef_ did not converge\", ConvergenceWarning)\n",
      "C:\\Users\\TEMP\\Anaconda3\\envs\\nlp\\lib\\site-packages\\sklearn\\linear_model\\sag.py:326: ConvergenceWarning: The max_iter was reached which means the coef_ did not converge\n",
      "  \"the coef_ did not converge\", ConvergenceWarning)\n",
      "C:\\Users\\TEMP\\Anaconda3\\envs\\nlp\\lib\\site-packages\\sklearn\\linear_model\\sag.py:326: ConvergenceWarning: The max_iter was reached which means the coef_ did not converge\n",
      "  \"the coef_ did not converge\", ConvergenceWarning)\n",
      "C:\\Users\\TEMP\\Anaconda3\\envs\\nlp\\lib\\site-packages\\sklearn\\linear_model\\sag.py:326: ConvergenceWarning: The max_iter was reached which means the coef_ did not converge\n",
      "  \"the coef_ did not converge\", ConvergenceWarning)\n",
      "C:\\Users\\TEMP\\Anaconda3\\envs\\nlp\\lib\\site-packages\\sklearn\\linear_model\\sag.py:326: ConvergenceWarning: The max_iter was reached which means the coef_ did not converge\n",
      "  \"the coef_ did not converge\", ConvergenceWarning)\n",
      "C:\\Users\\TEMP\\Anaconda3\\envs\\nlp\\lib\\site-packages\\sklearn\\linear_model\\sag.py:326: ConvergenceWarning: The max_iter was reached which means the coef_ did not converge\n",
      "  \"the coef_ did not converge\", ConvergenceWarning)\n",
      "C:\\Users\\TEMP\\Anaconda3\\envs\\nlp\\lib\\site-packages\\sklearn\\linear_model\\sag.py:326: ConvergenceWarning: The max_iter was reached which means the coef_ did not converge\n",
      "  \"the coef_ did not converge\", ConvergenceWarning)\n",
      "C:\\Users\\TEMP\\Anaconda3\\envs\\nlp\\lib\\site-packages\\sklearn\\linear_model\\sag.py:326: ConvergenceWarning: The max_iter was reached which means the coef_ did not converge\n",
      "  \"the coef_ did not converge\", ConvergenceWarning)\n",
      "C:\\Users\\TEMP\\Anaconda3\\envs\\nlp\\lib\\site-packages\\sklearn\\linear_model\\sag.py:326: ConvergenceWarning: The max_iter was reached which means the coef_ did not converge\n",
      "  \"the coef_ did not converge\", ConvergenceWarning)\n",
      "C:\\Users\\TEMP\\Anaconda3\\envs\\nlp\\lib\\site-packages\\sklearn\\linear_model\\sag.py:326: ConvergenceWarning: The max_iter was reached which means the coef_ did not converge\n",
      "  \"the coef_ did not converge\", ConvergenceWarning)\n",
      "C:\\Users\\TEMP\\Anaconda3\\envs\\nlp\\lib\\site-packages\\sklearn\\linear_model\\sag.py:326: ConvergenceWarning: The max_iter was reached which means the coef_ did not converge\n",
      "  \"the coef_ did not converge\", ConvergenceWarning)\n",
      "C:\\Users\\TEMP\\Anaconda3\\envs\\nlp\\lib\\site-packages\\sklearn\\linear_model\\sag.py:326: ConvergenceWarning: The max_iter was reached which means the coef_ did not converge\n",
      "  \"the coef_ did not converge\", ConvergenceWarning)\n",
      "C:\\Users\\TEMP\\Anaconda3\\envs\\nlp\\lib\\site-packages\\sklearn\\linear_model\\sag.py:326: ConvergenceWarning: The max_iter was reached which means the coef_ did not converge\n",
      "  \"the coef_ did not converge\", ConvergenceWarning)\n",
      "C:\\Users\\TEMP\\Anaconda3\\envs\\nlp\\lib\\site-packages\\sklearn\\linear_model\\sag.py:326: ConvergenceWarning: The max_iter was reached which means the coef_ did not converge\n",
      "  \"the coef_ did not converge\", ConvergenceWarning)\n",
      "C:\\Users\\TEMP\\Anaconda3\\envs\\nlp\\lib\\site-packages\\sklearn\\linear_model\\sag.py:326: ConvergenceWarning: The max_iter was reached which means the coef_ did not converge\n",
      "  \"the coef_ did not converge\", ConvergenceWarning)\n",
      "C:\\Users\\TEMP\\Anaconda3\\envs\\nlp\\lib\\site-packages\\sklearn\\linear_model\\sag.py:326: ConvergenceWarning: The max_iter was reached which means the coef_ did not converge\n",
      "  \"the coef_ did not converge\", ConvergenceWarning)\n",
      "C:\\Users\\TEMP\\Anaconda3\\envs\\nlp\\lib\\site-packages\\sklearn\\linear_model\\sag.py:326: ConvergenceWarning: The max_iter was reached which means the coef_ did not converge\n",
      "  \"the coef_ did not converge\", ConvergenceWarning)\n",
      "C:\\Users\\TEMP\\Anaconda3\\envs\\nlp\\lib\\site-packages\\sklearn\\linear_model\\sag.py:326: ConvergenceWarning: The max_iter was reached which means the coef_ did not converge\n",
      "  \"the coef_ did not converge\", ConvergenceWarning)\n",
      "C:\\Users\\TEMP\\Anaconda3\\envs\\nlp\\lib\\site-packages\\sklearn\\linear_model\\sag.py:326: ConvergenceWarning: The max_iter was reached which means the coef_ did not converge\n",
      "  \"the coef_ did not converge\", ConvergenceWarning)\n",
      "C:\\Users\\TEMP\\Anaconda3\\envs\\nlp\\lib\\site-packages\\sklearn\\linear_model\\sag.py:326: ConvergenceWarning: The max_iter was reached which means the coef_ did not converge\n",
      "  \"the coef_ did not converge\", ConvergenceWarning)\n",
      "C:\\Users\\TEMP\\Anaconda3\\envs\\nlp\\lib\\site-packages\\sklearn\\linear_model\\sag.py:326: ConvergenceWarning: The max_iter was reached which means the coef_ did not converge\n",
      "  \"the coef_ did not converge\", ConvergenceWarning)\n",
      "C:\\Users\\TEMP\\Anaconda3\\envs\\nlp\\lib\\site-packages\\sklearn\\linear_model\\sag.py:326: ConvergenceWarning: The max_iter was reached which means the coef_ did not converge\n",
      "  \"the coef_ did not converge\", ConvergenceWarning)\n",
      "C:\\Users\\TEMP\\Anaconda3\\envs\\nlp\\lib\\site-packages\\sklearn\\linear_model\\sag.py:326: ConvergenceWarning: The max_iter was reached which means the coef_ did not converge\n",
      "  \"the coef_ did not converge\", ConvergenceWarning)\n",
      "C:\\Users\\TEMP\\Anaconda3\\envs\\nlp\\lib\\site-packages\\sklearn\\linear_model\\sag.py:326: ConvergenceWarning: The max_iter was reached which means the coef_ did not converge\n",
      "  \"the coef_ did not converge\", ConvergenceWarning)\n",
      "C:\\Users\\TEMP\\Anaconda3\\envs\\nlp\\lib\\site-packages\\sklearn\\linear_model\\sag.py:326: ConvergenceWarning: The max_iter was reached which means the coef_ did not converge\n",
      "  \"the coef_ did not converge\", ConvergenceWarning)\n"
     ]
    }
   ],
   "source": [
    "k_range = np.arange(99,210,11)\n",
    "k_range_score = []\n",
    "for i in k_range:\n",
    "    fs_chi = SelectKBest(chi2, k=i)\n",
    "    X_kbest = fs_chi.fit_transform(preproc_reviews_withstop,y)\n",
    "    scores = cross_val_score(lr4,X_kbest, y, cv=10, \n",
    "                        scoring= 'accuracy')\n",
    "    k_range_score.append(scores.mean())\n",
    "    "
   ]
  },
  {
   "cell_type": "code",
   "execution_count": 320,
   "metadata": {},
   "outputs": [],
   "source": [
    "import matplotlib.pyplot as plt\n",
    "%matplotlib inline"
   ]
  },
  {
   "cell_type": "code",
   "execution_count": 321,
   "metadata": {},
   "outputs": [
    {
     "data": {
      "text/plain": [
       "[<matplotlib.lines.Line2D at 0x1b925abd3c8>]"
      ]
     },
     "execution_count": 321,
     "metadata": {},
     "output_type": "execute_result"
    },
    {
     "data": {
      "image/png": "[encoded data removed]",
      "text/plain": [
       "<Figure size 432x288 with 1 Axes>"
      ]
     },
     "metadata": {},
     "output_type": "display_data"
    }
   ],
   "source": [
    "plt.plot(k_range ,k_range_score)"
   ]
  },
  {
   "cell_type": "code",
   "execution_count": 324,
   "metadata": {},
   "outputs": [
    {
     "data": {
      "text/plain": [
       "165"
      ]
     },
     "execution_count": 324,
     "metadata": {},
     "output_type": "execute_result"
    }
   ],
   "source": [
    "k_range[k_range_score.index(max(k_range_score))]\n"
   ]
  },
  {
   "cell_type": "markdown",
   "metadata": {},
   "source": [
    "#### finally, choose top 165 element by chi2 test, set logistic regression parameter as C =44444.49999999999, multi_class ='multinomial',solver= 'saga',penalty = 'l2',tol = 0.0001,class_weight = None, the model can reach 71% accuracy"
   ]
  },
  {
   "cell_type": "code",
   "execution_count": null,
   "metadata": {},
   "outputs": [],
   "source": []
  },
  {
   "cell_type": "code",
   "execution_count": null,
   "metadata": {},
   "outputs": [],
   "source": []
  }
 ],
 "metadata": {
  "kernelspec": {
   "display_name": "Python 3",
   "language": "python",
   "name": "python3"
  },
  "language_info": {
   "codemirror_mode": {
    "name": "ipython",
    "version": 3
   },
   "file_extension": ".py",
   "mimetype": "text/x-python",
   "name": "python",
   "nbconvert_exporter": "python",
   "pygments_lexer": "ipython3",
   "version": "3.6.5"
  }
 },
 "nbformat": 4,
 "nbformat_minor": 2
}
