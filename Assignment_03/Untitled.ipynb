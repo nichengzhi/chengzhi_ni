{
 "cells": [
  {
   "cell_type": "code",
   "execution_count": 1,
   "metadata": {},
   "outputs": [],
   "source": [
    "import json\n",
    "import pandas as pd"
   ]
  },
  {
   "cell_type": "code",
   "execution_count": 2,
   "metadata": {},
   "outputs": [],
   "source": [
    "with open('reviews.json') as f:\n",
    "    reviews = f.read().strip().split(\"\\n\")\n",
    "    "
   ]
  },
  {
   "cell_type": "code",
   "execution_count": 3,
   "metadata": {},
   "outputs": [
    {
     "data": {
      "text/plain": [
       "803"
      ]
     },
     "execution_count": 3,
     "metadata": {},
     "output_type": "execute_result"
    }
   ],
   "source": [
    "len(reviews)"
   ]
  },
  {
   "cell_type": "code",
   "execution_count": 4,
   "metadata": {},
   "outputs": [],
   "source": [
    "review_list = pd.DataFrame(columns = json.loads(reviews[0]))"
   ]
  },
  {
   "cell_type": "code",
   "execution_count": 5,
   "metadata": {},
   "outputs": [],
   "source": [
    "for review in reviews:\n",
    "    one = json.loads(review)\n",
    "    review_list.loc[-1] = [one['name'],one['date'],one['text'],one['score']]\n",
    "    review_list.index = review_list.index + 1\n",
    "    review_list = review_list.sort_index()"
   ]
  },
  {
   "cell_type": "code",
   "execution_count": 6,
   "metadata": {},
   "outputs": [
    {
     "data": {
      "text/html": [
       "<div>\n",
       "<style scoped>\n",
       "    .dataframe tbody tr th:only-of-type {\n",
       "        vertical-align: middle;\n",
       "    }\n",
       "\n",
       "    .dataframe tbody tr th {\n",
       "        vertical-align: top;\n",
       "    }\n",
       "\n",
       "    .dataframe thead th {\n",
       "        text-align: right;\n",
       "    }\n",
       "</style>\n",
       "<table border=\"1\" class=\"dataframe\">\n",
       "  <thead>\n",
       "    <tr style=\"text-align: right;\">\n",
       "      <th></th>\n",
       "      <th>name</th>\n",
       "      <th>date</th>\n",
       "      <th>text</th>\n",
       "      <th>score</th>\n",
       "    </tr>\n",
       "  </thead>\n",
       "  <tbody>\n",
       "    <tr>\n",
       "      <th>0</th>\n",
       "      <td>Heather</td>\n",
       "      <td>2018-04-08 00:00:00</td>\n",
       "      <td>When I click the button it shines brightly</td>\n",
       "      <td>5.0</td>\n",
       "    </tr>\n",
       "    <tr>\n",
       "      <th>1</th>\n",
       "      <td>smokey</td>\n",
       "      <td>2018-04-08 00:00:00</td>\n",
       "      <td>i have to buy batteries  china junk</td>\n",
       "      <td>1.0</td>\n",
       "    </tr>\n",
       "    <tr>\n",
       "      <th>2</th>\n",
       "      <td>Susan</td>\n",
       "      <td>2018-04-07 00:00:00</td>\n",
       "      <td>Arrived on time and product is as depicted.  G...</td>\n",
       "      <td>5.0</td>\n",
       "    </tr>\n",
       "    <tr>\n",
       "      <th>3</th>\n",
       "      <td>JiaHui Chen</td>\n",
       "      <td>2018-04-07 00:00:00</td>\n",
       "      <td>This is a small iron flashlight, it is very co...</td>\n",
       "      <td>5.0</td>\n",
       "    </tr>\n",
       "    <tr>\n",
       "      <th>4</th>\n",
       "      <td>Amazon Customer</td>\n",
       "      <td>2018-04-07 00:00:00</td>\n",
       "      <td>Awesome flashlight for the price!</td>\n",
       "      <td>5.0</td>\n",
       "    </tr>\n",
       "    <tr>\n",
       "      <th>5</th>\n",
       "      <td>Atlanta Jake</td>\n",
       "      <td>2018-04-07 00:00:00</td>\n",
       "      <td>Got these two flashlights on sale and well wor...</td>\n",
       "      <td>5.0</td>\n",
       "    </tr>\n",
       "    <tr>\n",
       "      <th>6</th>\n",
       "      <td>An N.</td>\n",
       "      <td>2018-04-07 00:00:00</td>\n",
       "      <td>Decent enough light. But I hated the fact that...</td>\n",
       "      <td>2.0</td>\n",
       "    </tr>\n",
       "    <tr>\n",
       "      <th>7</th>\n",
       "      <td>MW</td>\n",
       "      <td>2018-04-06 00:00:00</td>\n",
       "      <td>It’s tiny cute flashlight.  As of luminous flu...</td>\n",
       "      <td>5.0</td>\n",
       "    </tr>\n",
       "    <tr>\n",
       "      <th>8</th>\n",
       "      <td>Nicholas Kisling</td>\n",
       "      <td>2018-04-06 00:00:00</td>\n",
       "      <td>Better than I was expecting for the price and ...</td>\n",
       "      <td>4.0</td>\n",
       "    </tr>\n",
       "    <tr>\n",
       "      <th>9</th>\n",
       "      <td>Jing Zhang</td>\n",
       "      <td>2018-04-06 00:00:00</td>\n",
       "      <td>This is one of the must haves for each and eve...</td>\n",
       "      <td>5.0</td>\n",
       "    </tr>\n",
       "    <tr>\n",
       "      <th>10</th>\n",
       "      <td>Heather</td>\n",
       "      <td>2018-04-08 00:00:00</td>\n",
       "      <td>When I click the button it shines brightly</td>\n",
       "      <td>5.0</td>\n",
       "    </tr>\n",
       "    <tr>\n",
       "      <th>11</th>\n",
       "      <td>smokey</td>\n",
       "      <td>2018-04-08 00:00:00</td>\n",
       "      <td>i have to buy batteries  china junk</td>\n",
       "      <td>1.0</td>\n",
       "    </tr>\n",
       "    <tr>\n",
       "      <th>12</th>\n",
       "      <td>Susan</td>\n",
       "      <td>2018-04-07 00:00:00</td>\n",
       "      <td>Arrived on time and product is as depicted.  G...</td>\n",
       "      <td>5.0</td>\n",
       "    </tr>\n",
       "    <tr>\n",
       "      <th>13</th>\n",
       "      <td>JiaHui Chen</td>\n",
       "      <td>2018-04-07 00:00:00</td>\n",
       "      <td>This is a small iron flashlight, it is very co...</td>\n",
       "      <td>5.0</td>\n",
       "    </tr>\n",
       "    <tr>\n",
       "      <th>14</th>\n",
       "      <td>Amazon Customer</td>\n",
       "      <td>2018-04-07 00:00:00</td>\n",
       "      <td>Awesome flashlight for the price!</td>\n",
       "      <td>5.0</td>\n",
       "    </tr>\n",
       "    <tr>\n",
       "      <th>15</th>\n",
       "      <td>Atlanta Jake</td>\n",
       "      <td>2018-04-07 00:00:00</td>\n",
       "      <td>Got these two flashlights on sale and well wor...</td>\n",
       "      <td>5.0</td>\n",
       "    </tr>\n",
       "    <tr>\n",
       "      <th>16</th>\n",
       "      <td>An N.</td>\n",
       "      <td>2018-04-07 00:00:00</td>\n",
       "      <td>Decent enough light. But I hated the fact that...</td>\n",
       "      <td>2.0</td>\n",
       "    </tr>\n",
       "    <tr>\n",
       "      <th>17</th>\n",
       "      <td>MW</td>\n",
       "      <td>2018-04-06 00:00:00</td>\n",
       "      <td>It’s tiny cute flashlight.  As of luminous flu...</td>\n",
       "      <td>5.0</td>\n",
       "    </tr>\n",
       "    <tr>\n",
       "      <th>18</th>\n",
       "      <td>Nicholas Kisling</td>\n",
       "      <td>2018-04-06 00:00:00</td>\n",
       "      <td>Better than I was expecting for the price and ...</td>\n",
       "      <td>4.0</td>\n",
       "    </tr>\n",
       "    <tr>\n",
       "      <th>19</th>\n",
       "      <td>Jing Zhang</td>\n",
       "      <td>2018-04-06 00:00:00</td>\n",
       "      <td>This is one of the must haves for each and eve...</td>\n",
       "      <td>5.0</td>\n",
       "    </tr>\n",
       "    <tr>\n",
       "      <th>20</th>\n",
       "      <td>Amazon Customer</td>\n",
       "      <td>2018-04-06 00:00:00</td>\n",
       "      <td>One of the flashlights switch does not work.</td>\n",
       "      <td>3.0</td>\n",
       "    </tr>\n",
       "    <tr>\n",
       "      <th>21</th>\n",
       "      <td>Obafemi</td>\n",
       "      <td>2018-04-06 00:00:00</td>\n",
       "      <td>They are working good. I love it!</td>\n",
       "      <td>5.0</td>\n",
       "    </tr>\n",
       "    <tr>\n",
       "      <th>22</th>\n",
       "      <td>jon asri</td>\n",
       "      <td>2018-04-05 00:00:00</td>\n",
       "      <td>DOA and this item is not eligible for return!</td>\n",
       "      <td>1.0</td>\n",
       "    </tr>\n",
       "    <tr>\n",
       "      <th>23</th>\n",
       "      <td>Terry</td>\n",
       "      <td>2018-04-05 00:00:00</td>\n",
       "      <td>They aren't bad lights, Really bright, lightly...</td>\n",
       "      <td>3.0</td>\n",
       "    </tr>\n",
       "    <tr>\n",
       "      <th>24</th>\n",
       "      <td>Marlies Fitch Ledbetter</td>\n",
       "      <td>2018-04-05 00:00:00</td>\n",
       "      <td>Can’t even get a battery in it. And it’s not b...</td>\n",
       "      <td>1.0</td>\n",
       "    </tr>\n",
       "    <tr>\n",
       "      <th>25</th>\n",
       "      <td>Mikki - Student</td>\n",
       "      <td>2018-04-05 00:00:00</td>\n",
       "      <td>1 of the 2 flashlights work. but not as advert...</td>\n",
       "      <td>1.0</td>\n",
       "    </tr>\n",
       "    <tr>\n",
       "      <th>26</th>\n",
       "      <td>BH</td>\n",
       "      <td>2018-04-05 00:00:00</td>\n",
       "      <td>It's compact, lightweight, focusable, and brig...</td>\n",
       "      <td>5.0</td>\n",
       "    </tr>\n",
       "    <tr>\n",
       "      <th>27</th>\n",
       "      <td>J. Madsen</td>\n",
       "      <td>2018-04-04 00:00:00</td>\n",
       "      <td>Really bright for the size one aa battery a plus</td>\n",
       "      <td>5.0</td>\n",
       "    </tr>\n",
       "    <tr>\n",
       "      <th>28</th>\n",
       "      <td>Diana R. Ortega</td>\n",
       "      <td>2018-04-04 00:00:00</td>\n",
       "      <td>They're very small, but work well for a 4 inch...</td>\n",
       "      <td>3.0</td>\n",
       "    </tr>\n",
       "    <tr>\n",
       "      <th>29</th>\n",
       "      <td>loudheart</td>\n",
       "      <td>2018-04-04 00:00:00</td>\n",
       "      <td>It's okay.</td>\n",
       "      <td>2.0</td>\n",
       "    </tr>\n",
       "    <tr>\n",
       "      <th>...</th>\n",
       "      <td>...</td>\n",
       "      <td>...</td>\n",
       "      <td>...</td>\n",
       "      <td>...</td>\n",
       "    </tr>\n",
       "    <tr>\n",
       "      <th>773</th>\n",
       "      <td>Edward McCarthy</td>\n",
       "      <td>2017-03-05 00:00:00</td>\n",
       "      <td>I had bought a pair similar to these previousl...</td>\n",
       "      <td>2.0</td>\n",
       "    </tr>\n",
       "    <tr>\n",
       "      <th>774</th>\n",
       "      <td>Charles J. Cole</td>\n",
       "      <td>2017-03-04 00:00:00</td>\n",
       "      <td>This is probably the best and most compact set...</td>\n",
       "      <td>5.0</td>\n",
       "    </tr>\n",
       "    <tr>\n",
       "      <th>775</th>\n",
       "      <td>GardenGuy</td>\n",
       "      <td>2017-03-04 00:00:00</td>\n",
       "      <td>1:580:00This video is not intended for all aud...</td>\n",
       "      <td>5.0</td>\n",
       "    </tr>\n",
       "    <tr>\n",
       "      <th>776</th>\n",
       "      <td>pam mortensen</td>\n",
       "      <td>2017-03-02 00:00:00</td>\n",
       "      <td>great little lights</td>\n",
       "      <td>5.0</td>\n",
       "    </tr>\n",
       "    <tr>\n",
       "      <th>777</th>\n",
       "      <td>KR</td>\n",
       "      <td>2017-03-01 00:00:00</td>\n",
       "      <td>love them</td>\n",
       "      <td>5.0</td>\n",
       "    </tr>\n",
       "    <tr>\n",
       "      <th>778</th>\n",
       "      <td>DAVID DUDLEY</td>\n",
       "      <td>2017-03-01 00:00:00</td>\n",
       "      <td>Excellent! These are great!</td>\n",
       "      <td>5.0</td>\n",
       "    </tr>\n",
       "    <tr>\n",
       "      <th>779</th>\n",
       "      <td>ROBAMA</td>\n",
       "      <td>2017-02-24 00:00:00</td>\n",
       "      <td>MUY BUEN PRODUCTO</td>\n",
       "      <td>5.0</td>\n",
       "    </tr>\n",
       "    <tr>\n",
       "      <th>780</th>\n",
       "      <td>Rodel P. Urmatan</td>\n",
       "      <td>2017-02-23 00:00:00</td>\n",
       "      <td>Rock solid construction with great beams of li...</td>\n",
       "      <td>5.0</td>\n",
       "    </tr>\n",
       "    <tr>\n",
       "      <th>781</th>\n",
       "      <td>A Customer 9999999</td>\n",
       "      <td>2017-02-23 00:00:00</td>\n",
       "      <td>Dropped the light one time. Now the slightest ...</td>\n",
       "      <td>3.0</td>\n",
       "    </tr>\n",
       "    <tr>\n",
       "      <th>782</th>\n",
       "      <td>M D B</td>\n",
       "      <td>2017-02-23 00:00:00</td>\n",
       "      <td>Really like these flashlights! Work very well....</td>\n",
       "      <td>5.0</td>\n",
       "    </tr>\n",
       "    <tr>\n",
       "      <th>783</th>\n",
       "      <td>Ray leon</td>\n",
       "      <td>2017-02-18 00:00:00</td>\n",
       "      <td>bright and compact design. have them all thru ...</td>\n",
       "      <td>5.0</td>\n",
       "    </tr>\n",
       "    <tr>\n",
       "      <th>784</th>\n",
       "      <td>Twinmom</td>\n",
       "      <td>2017-02-17 00:00:00</td>\n",
       "      <td>These are great flashlights. They are perfect ...</td>\n",
       "      <td>5.0</td>\n",
       "    </tr>\n",
       "    <tr>\n",
       "      <th>785</th>\n",
       "      <td>Calvin</td>\n",
       "      <td>2017-02-16 00:00:00</td>\n",
       "      <td>Wow these were a lot brighter than I expected....</td>\n",
       "      <td>5.0</td>\n",
       "    </tr>\n",
       "    <tr>\n",
       "      <th>786</th>\n",
       "      <td>Amazon Customer</td>\n",
       "      <td>2017-02-16 00:00:00</td>\n",
       "      <td>Great for the price.No complaints so far.</td>\n",
       "      <td>4.0</td>\n",
       "    </tr>\n",
       "    <tr>\n",
       "      <th>787</th>\n",
       "      <td>James King</td>\n",
       "      <td>2017-02-15 00:00:00</td>\n",
       "      <td>When turning these on, you get a different mod...</td>\n",
       "      <td>2.0</td>\n",
       "    </tr>\n",
       "    <tr>\n",
       "      <th>788</th>\n",
       "      <td>Leslie Dixon</td>\n",
       "      <td>2017-02-13 00:00:00</td>\n",
       "      <td>After getting screwed by the seller Vaya I bou...</td>\n",
       "      <td>4.0</td>\n",
       "    </tr>\n",
       "    <tr>\n",
       "      <th>789</th>\n",
       "      <td>D. Griffin</td>\n",
       "      <td>2017-02-06 00:00:00</td>\n",
       "      <td>These are GREAT!</td>\n",
       "      <td>5.0</td>\n",
       "    </tr>\n",
       "    <tr>\n",
       "      <th>790</th>\n",
       "      <td>Amazon Customer</td>\n",
       "      <td>2017-01-21 00:00:00</td>\n",
       "      <td>The lights are  Nice.  Several others are simi...</td>\n",
       "      <td>4.0</td>\n",
       "    </tr>\n",
       "    <tr>\n",
       "      <th>791</th>\n",
       "      <td>John</td>\n",
       "      <td>2017-01-20 00:00:00</td>\n",
       "      <td>They work as expected.</td>\n",
       "      <td>5.0</td>\n",
       "    </tr>\n",
       "    <tr>\n",
       "      <th>792</th>\n",
       "      <td>Happy</td>\n",
       "      <td>2017-01-17 00:00:00</td>\n",
       "      <td>Don't use to often very bright.Broken spring n...</td>\n",
       "      <td>1.0</td>\n",
       "    </tr>\n",
       "    <tr>\n",
       "      <th>793</th>\n",
       "      <td>Garden Walk</td>\n",
       "      <td>2017-01-17 00:00:00</td>\n",
       "      <td>Wish they were smaller, but very good light so...</td>\n",
       "      <td>4.0</td>\n",
       "    </tr>\n",
       "    <tr>\n",
       "      <th>794</th>\n",
       "      <td>Sherbear</td>\n",
       "      <td>2017-01-15 00:00:00</td>\n",
       "      <td>WOW are these bright. Theyre small but they pa...</td>\n",
       "      <td>5.0</td>\n",
       "    </tr>\n",
       "    <tr>\n",
       "      <th>795</th>\n",
       "      <td>Renee</td>\n",
       "      <td>2017-01-10 00:00:00</td>\n",
       "      <td>Loved it at first, but after dropping it once,...</td>\n",
       "      <td>1.0</td>\n",
       "    </tr>\n",
       "    <tr>\n",
       "      <th>796</th>\n",
       "      <td>Amazon Customer</td>\n",
       "      <td>2017-01-06 00:00:00</td>\n",
       "      <td>These are very small flashlights. They feel ve...</td>\n",
       "      <td>5.0</td>\n",
       "    </tr>\n",
       "    <tr>\n",
       "      <th>797</th>\n",
       "      <td>rd5565</td>\n",
       "      <td>2017-01-05 00:00:00</td>\n",
       "      <td>These flashlights are awesome. They are very s...</td>\n",
       "      <td>5.0</td>\n",
       "    </tr>\n",
       "    <tr>\n",
       "      <th>798</th>\n",
       "      <td>Harvey Sherman</td>\n",
       "      <td>2017-01-03 00:00:00</td>\n",
       "      <td>All of them are working great. Bought some fro...</td>\n",
       "      <td>5.0</td>\n",
       "    </tr>\n",
       "    <tr>\n",
       "      <th>799</th>\n",
       "      <td>Peter Dandyk</td>\n",
       "      <td>2017-01-03 00:00:00</td>\n",
       "      <td>5 out of 6 were good.</td>\n",
       "      <td>4.0</td>\n",
       "    </tr>\n",
       "    <tr>\n",
       "      <th>800</th>\n",
       "      <td>Robert S. Nelson Jr.</td>\n",
       "      <td>2017-01-02 00:00:00</td>\n",
       "      <td>better than expected</td>\n",
       "      <td>5.0</td>\n",
       "    </tr>\n",
       "    <tr>\n",
       "      <th>801</th>\n",
       "      <td>Amazon Customer</td>\n",
       "      <td>2017-01-02 00:00:00</td>\n",
       "      <td>Product as described, shipped promptly.</td>\n",
       "      <td>5.0</td>\n",
       "    </tr>\n",
       "    <tr>\n",
       "      <th>802</th>\n",
       "      <td>Amazon Customer</td>\n",
       "      <td>2017-01-01 00:00:00</td>\n",
       "      <td>great flash lights, 3 modes low light, bright ...</td>\n",
       "      <td>5.0</td>\n",
       "    </tr>\n",
       "  </tbody>\n",
       "</table>\n",
       "<p>803 rows × 4 columns</p>\n",
       "</div>"
      ],
      "text/plain": [
       "                        name                 date  \\\n",
       "0                    Heather  2018-04-08 00:00:00   \n",
       "1                     smokey  2018-04-08 00:00:00   \n",
       "2                      Susan  2018-04-07 00:00:00   \n",
       "3                JiaHui Chen  2018-04-07 00:00:00   \n",
       "4            Amazon Customer  2018-04-07 00:00:00   \n",
       "5               Atlanta Jake  2018-04-07 00:00:00   \n",
       "6                      An N.  2018-04-07 00:00:00   \n",
       "7                         MW  2018-04-06 00:00:00   \n",
       "8           Nicholas Kisling  2018-04-06 00:00:00   \n",
       "9                 Jing Zhang  2018-04-06 00:00:00   \n",
       "10                   Heather  2018-04-08 00:00:00   \n",
       "11                    smokey  2018-04-08 00:00:00   \n",
       "12                     Susan  2018-04-07 00:00:00   \n",
       "13               JiaHui Chen  2018-04-07 00:00:00   \n",
       "14           Amazon Customer  2018-04-07 00:00:00   \n",
       "15              Atlanta Jake  2018-04-07 00:00:00   \n",
       "16                     An N.  2018-04-07 00:00:00   \n",
       "17                        MW  2018-04-06 00:00:00   \n",
       "18          Nicholas Kisling  2018-04-06 00:00:00   \n",
       "19                Jing Zhang  2018-04-06 00:00:00   \n",
       "20           Amazon Customer  2018-04-06 00:00:00   \n",
       "21                  Obafemi   2018-04-06 00:00:00   \n",
       "22                  jon asri  2018-04-05 00:00:00   \n",
       "23                     Terry  2018-04-05 00:00:00   \n",
       "24   Marlies Fitch Ledbetter  2018-04-05 00:00:00   \n",
       "25           Mikki - Student  2018-04-05 00:00:00   \n",
       "26                        BH  2018-04-05 00:00:00   \n",
       "27                 J. Madsen  2018-04-04 00:00:00   \n",
       "28           Diana R. Ortega  2018-04-04 00:00:00   \n",
       "29                 loudheart  2018-04-04 00:00:00   \n",
       "..                       ...                  ...   \n",
       "773          Edward McCarthy  2017-03-05 00:00:00   \n",
       "774          Charles J. Cole  2017-03-04 00:00:00   \n",
       "775                GardenGuy  2017-03-04 00:00:00   \n",
       "776            pam mortensen  2017-03-02 00:00:00   \n",
       "777                       KR  2017-03-01 00:00:00   \n",
       "778             DAVID DUDLEY  2017-03-01 00:00:00   \n",
       "779                   ROBAMA  2017-02-24 00:00:00   \n",
       "780         Rodel P. Urmatan  2017-02-23 00:00:00   \n",
       "781       A Customer 9999999  2017-02-23 00:00:00   \n",
       "782                    M D B  2017-02-23 00:00:00   \n",
       "783                 Ray leon  2017-02-18 00:00:00   \n",
       "784                  Twinmom  2017-02-17 00:00:00   \n",
       "785                   Calvin  2017-02-16 00:00:00   \n",
       "786          Amazon Customer  2017-02-16 00:00:00   \n",
       "787               James King  2017-02-15 00:00:00   \n",
       "788             Leslie Dixon  2017-02-13 00:00:00   \n",
       "789               D. Griffin  2017-02-06 00:00:00   \n",
       "790          Amazon Customer  2017-01-21 00:00:00   \n",
       "791                     John  2017-01-20 00:00:00   \n",
       "792                    Happy  2017-01-17 00:00:00   \n",
       "793              Garden Walk  2017-01-17 00:00:00   \n",
       "794                 Sherbear  2017-01-15 00:00:00   \n",
       "795                    Renee  2017-01-10 00:00:00   \n",
       "796          Amazon Customer  2017-01-06 00:00:00   \n",
       "797                   rd5565  2017-01-05 00:00:00   \n",
       "798           Harvey Sherman  2017-01-03 00:00:00   \n",
       "799             Peter Dandyk  2017-01-03 00:00:00   \n",
       "800     Robert S. Nelson Jr.  2017-01-02 00:00:00   \n",
       "801          Amazon Customer  2017-01-02 00:00:00   \n",
       "802          Amazon Customer  2017-01-01 00:00:00   \n",
       "\n",
       "                                                  text  score  \n",
       "0           When I click the button it shines brightly    5.0  \n",
       "1                  i have to buy batteries  china junk    1.0  \n",
       "2    Arrived on time and product is as depicted.  G...    5.0  \n",
       "3    This is a small iron flashlight, it is very co...    5.0  \n",
       "4                    Awesome flashlight for the price!    5.0  \n",
       "5    Got these two flashlights on sale and well wor...    5.0  \n",
       "6    Decent enough light. But I hated the fact that...    2.0  \n",
       "7    It’s tiny cute flashlight.  As of luminous flu...    5.0  \n",
       "8    Better than I was expecting for the price and ...    4.0  \n",
       "9    This is one of the must haves for each and eve...    5.0  \n",
       "10          When I click the button it shines brightly    5.0  \n",
       "11                 i have to buy batteries  china junk    1.0  \n",
       "12   Arrived on time and product is as depicted.  G...    5.0  \n",
       "13   This is a small iron flashlight, it is very co...    5.0  \n",
       "14                   Awesome flashlight for the price!    5.0  \n",
       "15   Got these two flashlights on sale and well wor...    5.0  \n",
       "16   Decent enough light. But I hated the fact that...    2.0  \n",
       "17   It’s tiny cute flashlight.  As of luminous flu...    5.0  \n",
       "18   Better than I was expecting for the price and ...    4.0  \n",
       "19   This is one of the must haves for each and eve...    5.0  \n",
       "20        One of the flashlights switch does not work.    3.0  \n",
       "21                   They are working good. I love it!    5.0  \n",
       "22       DOA and this item is not eligible for return!    1.0  \n",
       "23   They aren't bad lights, Really bright, lightly...    3.0  \n",
       "24   Can’t even get a battery in it. And it’s not b...    1.0  \n",
       "25   1 of the 2 flashlights work. but not as advert...    1.0  \n",
       "26   It's compact, lightweight, focusable, and brig...    5.0  \n",
       "27    Really bright for the size one aa battery a plus    5.0  \n",
       "28   They're very small, but work well for a 4 inch...    3.0  \n",
       "29                                          It's okay.    2.0  \n",
       "..                                                 ...    ...  \n",
       "773  I had bought a pair similar to these previousl...    2.0  \n",
       "774  This is probably the best and most compact set...    5.0  \n",
       "775  1:580:00This video is not intended for all aud...    5.0  \n",
       "776                                great little lights    5.0  \n",
       "777                                          love them    5.0  \n",
       "778                        Excellent! These are great!    5.0  \n",
       "779                                  MUY BUEN PRODUCTO    5.0  \n",
       "780  Rock solid construction with great beams of li...    5.0  \n",
       "781  Dropped the light one time. Now the slightest ...    3.0  \n",
       "782  Really like these flashlights! Work very well....    5.0  \n",
       "783  bright and compact design. have them all thru ...    5.0  \n",
       "784  These are great flashlights. They are perfect ...    5.0  \n",
       "785  Wow these were a lot brighter than I expected....    5.0  \n",
       "786          Great for the price.No complaints so far.    4.0  \n",
       "787  When turning these on, you get a different mod...    2.0  \n",
       "788  After getting screwed by the seller Vaya I bou...    4.0  \n",
       "789                                   These are GREAT!    5.0  \n",
       "790  The lights are  Nice.  Several others are simi...    4.0  \n",
       "791                             They work as expected.    5.0  \n",
       "792  Don't use to often very bright.Broken spring n...    1.0  \n",
       "793  Wish they were smaller, but very good light so...    4.0  \n",
       "794  WOW are these bright. Theyre small but they pa...    5.0  \n",
       "795  Loved it at first, but after dropping it once,...    1.0  \n",
       "796  These are very small flashlights. They feel ve...    5.0  \n",
       "797  These flashlights are awesome. They are very s...    5.0  \n",
       "798  All of them are working great. Bought some fro...    5.0  \n",
       "799                              5 out of 6 were good.    4.0  \n",
       "800                               better than expected    5.0  \n",
       "801            Product as described, shipped promptly.    5.0  \n",
       "802  great flash lights, 3 modes low light, bright ...    5.0  \n",
       "\n",
       "[803 rows x 4 columns]"
      ]
     },
     "execution_count": 6,
     "metadata": {},
     "output_type": "execute_result"
    }
   ],
   "source": [
    "review_list"
   ]
  },
  {
   "cell_type": "code",
   "execution_count": 34,
   "metadata": {},
   "outputs": [],
   "source": [
    "#detect fake reviews\n",
    "review_list['text length'] = review_list['text'].apply(lambda x: len(x.split()))\n",
    "review_list['name length'] = review_list['name'].apply(lambda x: len(x.split()))"
   ]
  },
  {
   "cell_type": "code",
   "execution_count": 35,
   "metadata": {},
   "outputs": [],
   "source": [
    "full_star_review = review_list[(review_list.score == 5.0)]"
   ]
  },
  {
   "cell_type": "code",
   "execution_count": 36,
   "metadata": {
    "scrolled": false
   },
   "outputs": [
    {
     "data": {
      "text/plain": [
       "<matplotlib.axes._subplots.AxesSubplot at 0x1a3fa2f8fd0>"
      ]
     },
     "execution_count": 36,
     "metadata": {},
     "output_type": "execute_result"
    },
    {
     "data": {
      "image/png": "[encoded data removed]",
      "text/plain": [
       "<matplotlib.figure.Figure at 0x1a3fa1dc2e8>"
      ]
     },
     "metadata": {},
     "output_type": "display_data"
    }
   ],
   "source": [
    "full_star_review.plot.scatter(x='name length', y='text length')"
   ]
  },
  {
   "cell_type": "code",
   "execution_count": 37,
   "metadata": {},
   "outputs": [
    {
     "data": {
      "text/plain": [
       "array([[<matplotlib.axes._subplots.AxesSubplot object at 0x000001A3FA2E5048>,\n",
       "        <matplotlib.axes._subplots.AxesSubplot object at 0x000001A3FB35DCF8>],\n",
       "       [<matplotlib.axes._subplots.AxesSubplot object at 0x000001A3FB397CF8>,\n",
       "        <matplotlib.axes._subplots.AxesSubplot object at 0x000001A3FB3D1DD8>],\n",
       "       [<matplotlib.axes._subplots.AxesSubplot object at 0x000001A3FB40BCF8>,\n",
       "        <matplotlib.axes._subplots.AxesSubplot object at 0x000001A3FB40BD30>]], dtype=object)"
      ]
     },
     "execution_count": 37,
     "metadata": {},
     "output_type": "execute_result"
    },
    {
     "data": {
      "image/png": "[encoded data removed]",
      "text/plain": [
       "<matplotlib.figure.Figure at 0x1a3fa26a4a8>"
      ]
     },
     "metadata": {},
     "output_type": "display_data"
    }
   ],
   "source": [
    "review_list['text length'].hist(by = review_list['score'], figsize = (6,8))"
   ]
  },
  {
   "cell_type": "code",
   "execution_count": 42,
   "metadata": {},
   "outputs": [
    {
     "data": {
      "text/plain": [
       "5.0    516\n",
       "4.0    109\n",
       "1.0     75\n",
       "3.0     53\n",
       "2.0     50\n",
       "Name: score, dtype: int64"
      ]
     },
     "execution_count": 42,
     "metadata": {},
     "output_type": "execute_result"
    }
   ],
   "source": [
    "pd.value_counts(review_list['score'])"
   ]
  },
  {
   "cell_type": "code",
   "execution_count": 44,
   "metadata": {},
   "outputs": [
    {
     "data": {
      "text/plain": [
       "count    803.000000\n",
       "mean      28.926526\n",
       "std       34.411523\n",
       "min        1.000000\n",
       "25%        7.000000\n",
       "50%       17.000000\n",
       "75%       38.000000\n",
       "max      345.000000\n",
       "Name: text length, dtype: float64"
      ]
     },
     "execution_count": 44,
     "metadata": {},
     "output_type": "execute_result"
    }
   ],
   "source": [
    "review_list['text length'].describe()"
   ]
  },
  {
   "cell_type": "code",
   "execution_count": 45,
   "metadata": {},
   "outputs": [
    {
     "data": {
      "text/plain": [
       "<matplotlib.axes._subplots.AxesSubplot at 0x1a3fc5731d0>"
      ]
     },
     "execution_count": 45,
     "metadata": {},
     "output_type": "execute_result"
    },
    {
     "data": {
      "image/png": "[encoded data removed]",
      "text/plain": [
       "<matplotlib.figure.Figure at 0x1a3fc546c88>"
      ]
     },
     "metadata": {},
     "output_type": "display_data"
    }
   ],
   "source": [
    "review_list['text length'].plot(kind='kde', logx=True)"
   ]
  },
  {
   "cell_type": "code",
   "execution_count": 46,
   "metadata": {},
   "outputs": [],
   "source": [
    "from sklearn.base import BaseEstimator, TransformerMixin"
   ]
  },
  {
   "cell_type": "code",
   "execution_count": 51,
   "metadata": {},
   "outputs": [
    {
     "data": {
      "text/plain": [
       "[[1, 2, 3], [1, 2, 3], [1, 2, 3]]"
      ]
     },
     "execution_count": 51,
     "metadata": {},
     "output_type": "execute_result"
    }
   ],
   "source": [
    "[[1,2,3]] * 3"
   ]
  },
  {
   "cell_type": "code",
   "execution_count": 52,
   "metadata": {},
   "outputs": [],
   "source": [
    "def save_ranking(first, second, third=None, fourth=None):\n",
    "    rank = {}\n",
    "    rank[1], rank[2] = first, second\n",
    "    rank[3] = third if third is not None else 'Nobody'\n",
    "    rank[4] = fourth if fourth is not None else 'Nobody'\n",
    "    print(rank)    "
   ]
  },
  {
   "cell_type": "code",
   "execution_count": 53,
   "metadata": {},
   "outputs": [
    {
     "name": "stdout",
     "output_type": "stream",
     "text": [
      "{1: 'ming', 2: 'alice', 3: 'Nobody', 4: 'Nobody'}\n"
     ]
    }
   ],
   "source": [
    "save_ranking('ming', 'alice')"
   ]
  },
  {
   "cell_type": "code",
   "execution_count": 54,
   "metadata": {},
   "outputs": [
    {
     "name": "stdout",
     "output_type": "stream",
     "text": [
      "{1: 'alice', 2: 'ming', 3: 'mike', 4: 'Nobody'}\n"
     ]
    }
   ],
   "source": [
    "save_ranking('alice', 'ming', third='mike')"
   ]
  },
  {
   "cell_type": "code",
   "execution_count": 55,
   "metadata": {},
   "outputs": [
    {
     "name": "stdout",
     "output_type": "stream",
     "text": [
      "('ming', 'alice', 'tom', 'wilson', 'roy')\n"
     ]
    }
   ],
   "source": [
    "def save_ranking(*args):\n",
    "    print(args) \n",
    "save_ranking('ming', 'alice', 'tom', 'wilson', 'roy')"
   ]
  },
  {
   "cell_type": "code",
   "execution_count": 56,
   "metadata": {},
   "outputs": [
    {
     "name": "stdout",
     "output_type": "stream",
     "text": [
      "{'first': 'ming', 'second': 'alice', 'fourth': 'wilson', 'third': 'tom', 'fifth': 'roy'}\n"
     ]
    }
   ],
   "source": [
    "def save_ranking(**kwargs):\n",
    "    print(kwargs)\n",
    "save_ranking(first='ming', second='alice', fourth='wilson', third='tom', fifth='roy')"
   ]
  },
  {
   "cell_type": "code",
   "execution_count": 57,
   "metadata": {},
   "outputs": [
    {
     "name": "stdout",
     "output_type": "stream",
     "text": [
      "('ming', 'alice', 'tom')\n",
      "{'fourth': 'wilson', 'fifth': 'roy'}\n"
     ]
    }
   ],
   "source": [
    "def save_ranking(*args, **kwargs):\n",
    "    print(args)     \n",
    "    print(kwargs)\n",
    "save_ranking('ming', 'alice', 'tom', fourth='wilson', fifth='roy')  "
   ]
  },
  {
   "cell_type": "code",
   "execution_count": null,
   "metadata": {},
   "outputs": [],
   "source": []
  }
 ],
 "metadata": {
  "kernelspec": {
   "display_name": "Python 3",
   "language": "python",
   "name": "python3"
  },
  "language_info": {
   "codemirror_mode": {
    "name": "ipython",
    "version": 3
   },
   "file_extension": ".py",
   "mimetype": "text/x-python",
   "name": "python",
   "nbconvert_exporter": "python",
   "pygments_lexer": "ipython3",
   "version": "3.6.4"
  }
 },
 "nbformat": 4,
 "nbformat_minor": 2
}
