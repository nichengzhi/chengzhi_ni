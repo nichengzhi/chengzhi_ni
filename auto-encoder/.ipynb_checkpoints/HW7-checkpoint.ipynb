{
 "cells": [
  {
   "cell_type": "markdown",
   "metadata": {},
   "source": [
    "#### PART 1"
   ]
  },
  {
   "cell_type": "code",
   "execution_count": 2,
   "metadata": {},
   "outputs": [
    {
     "name": "stderr",
     "output_type": "stream",
     "text": [
      "Using TensorFlow backend.\n"
     ]
    },
    {
     "name": "stdout",
     "output_type": "stream",
     "text": [
      "(60000, 784)\n",
      "(10000, 784)\n",
      "Train on 60000 samples, validate on 10000 samples\n",
      "Epoch 1/50\n",
      "60000/60000 [==============================] - 2s 37us/step - loss: 0.3557 - val_loss: 0.2714\n",
      "Epoch 2/50\n",
      "60000/60000 [==============================] - 2s 26us/step - loss: 0.2643 - val_loss: 0.2540\n",
      "Epoch 3/50\n",
      "60000/60000 [==============================] - 2s 25us/step - loss: 0.2436 - val_loss: 0.2309\n",
      "Epoch 4/50\n",
      "60000/60000 [==============================] - 1s 25us/step - loss: 0.2227 - val_loss: 0.2125\n",
      "Epoch 5/50\n",
      "60000/60000 [==============================] - 2s 26us/step - loss: 0.2075 - val_loss: 0.2001\n",
      "Epoch 6/50\n",
      "60000/60000 [==============================] - 1s 25us/step - loss: 0.1971 - val_loss: 0.1911\n",
      "Epoch 7/50\n",
      "60000/60000 [==============================] - 1s 25us/step - loss: 0.1889 - val_loss: 0.1838\n",
      "Epoch 8/50\n",
      "60000/60000 [==============================] - 2s 28us/step - loss: 0.1819 - val_loss: 0.1771\n",
      "Epoch 9/50\n",
      "60000/60000 [==============================] - 2s 26us/step - loss: 0.1758 - val_loss: 0.1714\n",
      "Epoch 10/50\n",
      "60000/60000 [==============================] - 2s 26us/step - loss: 0.1704 - val_loss: 0.1665\n",
      "Epoch 11/50\n",
      "60000/60000 [==============================] - 2s 26us/step - loss: 0.1658 - val_loss: 0.1620\n",
      "Epoch 12/50\n",
      "60000/60000 [==============================] - 2s 27us/step - loss: 0.1616 - val_loss: 0.1582\n",
      "Epoch 13/50\n",
      "60000/60000 [==============================] - 2s 26us/step - loss: 0.1579 - val_loss: 0.1547\n",
      "Epoch 14/50\n",
      "60000/60000 [==============================] - 2s 26us/step - loss: 0.1545 - val_loss: 0.1515\n",
      "Epoch 15/50\n",
      "60000/60000 [==============================] - 2s 27us/step - loss: 0.1514 - val_loss: 0.1486\n",
      "Epoch 16/50\n",
      "60000/60000 [==============================] - 1s 24us/step - loss: 0.1485 - val_loss: 0.1458\n",
      "Epoch 17/50\n",
      "60000/60000 [==============================] - 1s 24us/step - loss: 0.1459 - val_loss: 0.1432\n",
      "Epoch 18/50\n",
      "60000/60000 [==============================] - 1s 24us/step - loss: 0.1434 - val_loss: 0.1409\n",
      "Epoch 19/50\n",
      "60000/60000 [==============================] - 2s 27us/step - loss: 0.1411 - val_loss: 0.1386\n",
      "Epoch 20/50\n",
      "60000/60000 [==============================] - 1s 24us/step - loss: 0.1388 - val_loss: 0.1363\n",
      "Epoch 21/50\n",
      "60000/60000 [==============================] - 1s 24us/step - loss: 0.1367 - val_loss: 0.1342\n",
      "Epoch 22/50\n",
      "60000/60000 [==============================] - 2s 25us/step - loss: 0.1347 - val_loss: 0.1322\n",
      "Epoch 23/50\n",
      "60000/60000 [==============================] - 1s 24us/step - loss: 0.1327 - val_loss: 0.1303\n",
      "Epoch 24/50\n",
      "60000/60000 [==============================] - 1s 24us/step - loss: 0.1307 - val_loss: 0.1283\n",
      "Epoch 25/50\n",
      "60000/60000 [==============================] - 1s 24us/step - loss: 0.1289 - val_loss: 0.1265\n",
      "Epoch 26/50\n",
      "60000/60000 [==============================] - 2s 25us/step - loss: 0.1271 - val_loss: 0.1247\n",
      "Epoch 27/50\n",
      "60000/60000 [==============================] - 1s 24us/step - loss: 0.1253 - val_loss: 0.1229\n",
      "Epoch 28/50\n",
      "60000/60000 [==============================] - 1s 24us/step - loss: 0.1236 - val_loss: 0.1214\n",
      "Epoch 29/50\n",
      "60000/60000 [==============================] - 1s 25us/step - loss: 0.1220 - val_loss: 0.1197\n",
      "Epoch 30/50\n",
      "60000/60000 [==============================] - 1s 25us/step - loss: 0.1205 - val_loss: 0.1183\n",
      "Epoch 31/50\n",
      "60000/60000 [==============================] - 1s 24us/step - loss: 0.1190 - val_loss: 0.1168\n",
      "Epoch 32/50\n",
      "60000/60000 [==============================] - 1s 24us/step - loss: 0.1177 - val_loss: 0.1155\n",
      "Epoch 33/50\n",
      "60000/60000 [==============================] - 2s 26us/step - loss: 0.1164 - val_loss: 0.1142\n",
      "Epoch 34/50\n",
      "60000/60000 [==============================] - 1s 24us/step - loss: 0.1152 - val_loss: 0.1131\n",
      "Epoch 35/50\n",
      "60000/60000 [==============================] - 2s 26us/step - loss: 0.1141 - val_loss: 0.1121\n",
      "Epoch 36/50\n",
      "60000/60000 [==============================] - 2s 28us/step - loss: 0.1131 - val_loss: 0.1111\n",
      "Epoch 37/50\n",
      "60000/60000 [==============================] - 2s 27us/step - loss: 0.1122 - val_loss: 0.1102\n",
      "Epoch 38/50\n",
      "60000/60000 [==============================] - 2s 26us/step - loss: 0.1113 - val_loss: 0.1093\n",
      "Epoch 39/50\n",
      "60000/60000 [==============================] - 2s 26us/step - loss: 0.1105 - val_loss: 0.1085\n",
      "Epoch 40/50\n",
      "60000/60000 [==============================] - 2s 27us/step - loss: 0.1098 - val_loss: 0.1078\n",
      "Epoch 41/50\n",
      "60000/60000 [==============================] - 2s 27us/step - loss: 0.1091 - val_loss: 0.1071\n",
      "Epoch 42/50\n",
      "60000/60000 [==============================] - 1s 25us/step - loss: 0.1084 - val_loss: 0.1065\n",
      "Epoch 43/50\n",
      "60000/60000 [==============================] - 2s 26us/step - loss: 0.1078 - val_loss: 0.1059\n",
      "Epoch 44/50\n",
      "60000/60000 [==============================] - 2s 26us/step - loss: 0.1072 - val_loss: 0.1053\n",
      "Epoch 45/50\n",
      "60000/60000 [==============================] - 2s 26us/step - loss: 0.1067 - val_loss: 0.1048\n",
      "Epoch 46/50\n",
      "60000/60000 [==============================] - 2s 25us/step - loss: 0.1062 - val_loss: 0.1043\n",
      "Epoch 47/50\n",
      "60000/60000 [==============================] - 2s 27us/step - loss: 0.1057 - val_loss: 0.1039\n",
      "Epoch 48/50\n",
      "60000/60000 [==============================] - 2s 25us/step - loss: 0.1052 - val_loss: 0.1034\n",
      "Epoch 49/50\n",
      "60000/60000 [==============================] - 2s 25us/step - loss: 0.1048 - val_loss: 0.1030\n",
      "Epoch 50/50\n",
      "60000/60000 [==============================] - 2s 27us/step - loss: 0.1044 - val_loss: 0.1026\n"
     ]
    },
    {
     "data": {
      "text/plain": [
       "<keras.callbacks.History at 0x1cc9b64a5f8>"
      ]
     },
     "execution_count": 2,
     "metadata": {},
     "output_type": "execute_result"
    }
   ],
   "source": [
    "from keras.layers import Input, Dense\n",
    "from keras.models import Model\n",
    "# this is the size of our encoded representations\n",
    "encoding_dim = 32  # 32 floats -> compression of factor 24.5, assuming the input is 784 floats\n",
    "# this is our input placeholder\n",
    "input_img = Input(shape=(784,))\n",
    "# \"encoded\" is the encoded representation of the input\n",
    "encoded = Dense(encoding_dim, activation='relu')(input_img)\n",
    "# \"decoded\" is the lossy reconstruction of the input\n",
    "decoded = Dense(784, activation='sigmoid')(encoded)\n",
    "\n",
    "# this model maps an input to its reconstruction\n",
    "autoencoder = Model(input_img, decoded)\n",
    "# this model maps an input to its encoded representation\n",
    "encoder = Model(input_img, encoded)\n",
    "\n",
    "# create a placeholder for an encoded (32-dimensional) input\n",
    "encoded_input = Input(shape=(encoding_dim,))\n",
    "# retrieve the last layer of the autoencoder model\n",
    "decoder_layer = autoencoder.layers[-1]\n",
    "# create the decoder model\n",
    "decoder = Model(encoded_input, decoder_layer(encoded_input))\n",
    "\n",
    "autoencoder.compile(optimizer='adadelta', loss='binary_crossentropy')\n",
    "from keras.datasets import mnist\n",
    "import numpy as np\n",
    "(x_train, _), (x_test, _) = mnist.load_data()\n",
    "x_train = x_train.astype('float32') / 255.\n",
    "x_test = x_test.astype('float32') / 255.\n",
    "x_train = x_train.reshape((len(x_train), np.prod(x_train.shape[1:])))\n",
    "x_test = x_test.reshape((len(x_test), np.prod(x_test.shape[1:])))\n",
    "print (x_train.shape)\n",
    "print (x_test.shape)\n",
    "\n",
    "autoencoder.fit(x_train, x_train,\n",
    "                epochs=50,\n",
    "                batch_size=256,\n",
    "                shuffle=True,\n",
    "                validation_data=(x_test, x_test))\n"
   ]
  },
  {
   "cell_type": "code",
   "execution_count": 3,
   "metadata": {},
   "outputs": [],
   "source": [
    "encoded_imgs = encoder.predict(x_test)\n",
    "decoded_imgs = decoder.predict(encoded_imgs)"
   ]
  },
  {
   "cell_type": "code",
   "execution_count": 18,
   "metadata": {},
   "outputs": [],
   "source": [
    "import numpy as np"
   ]
  },
  {
   "cell_type": "code",
   "execution_count": 20,
   "metadata": {},
   "outputs": [
    {
     "data": {
      "text/plain": [
       "array([1, 4], dtype=int32)"
      ]
     },
     "execution_count": 20,
     "metadata": {},
     "output_type": "execute_result"
    }
   ],
   "source": [
    "np.square(np.array([1,2]))"
   ]
  },
  {
   "cell_type": "code",
   "execution_count": 77,
   "metadata": {},
   "outputs": [],
   "source": [
    "difference = []\n",
    "for i in range(10000):\n",
    "    mean = np.square(x_test[i,:]-decoded_imgs[i,:]).mean()\n",
    "    \n",
    "    difference.append(mean)\n",
    "    "
   ]
  },
  {
   "cell_type": "code",
   "execution_count": 78,
   "metadata": {},
   "outputs": [],
   "source": [
    "temp = list(difference)\n",
    "temp.sort()\n",
    "temp.reverse()\n",
    "ten_biggest = temp[0:10]"
   ]
  },
  {
   "cell_type": "code",
   "execution_count": 83,
   "metadata": {},
   "outputs": [],
   "source": [
    "index_list = []\n",
    "for i in ten_biggest:\n",
    "    index_list.append(difference.index(i))\n"
   ]
  },
  {
   "cell_type": "code",
   "execution_count": 84,
   "metadata": {},
   "outputs": [
    {
     "data": {
      "text/plain": [
       "[8553, 8015, 1782, 4230, 1526, 1170, 4601, 4140, 8254, 9596]"
      ]
     },
     "execution_count": 84,
     "metadata": {},
     "output_type": "execute_result"
    }
   ],
   "source": [
    "index_list"
   ]
  },
  {
   "cell_type": "code",
   "execution_count": 4,
   "metadata": {},
   "outputs": [],
   "source": [
    "import matplotlib.pyplot as plt\n",
    "%matplotlib inline"
   ]
  },
  {
   "cell_type": "code",
   "execution_count": 87,
   "metadata": {},
   "outputs": [
    {
     "data": {
      "image/png": "[encoded data removed]",
      "text/plain": [
       "<Figure size 1440x288 with 20 Axes>"
      ]
     },
     "metadata": {},
     "output_type": "display_data"
    }
   ],
   "source": [
    "plt.figure(figsize=(20, 4))\n",
    "n = 10\n",
    "for i in range(n):\n",
    "    # display original\n",
    "    ax = plt.subplot(2, n, i + 1)\n",
    "    plt.imshow(x_test[index_list[i]].reshape(28, 28))\n",
    "    plt.gray()\n",
    "    ax.get_xaxis().set_visible(False)\n",
    "    ax.get_yaxis().set_visible(False)\n",
    "    ax = plt.subplot(2, n, i + 1 + n)\n",
    "    plt.imshow(decoded_imgs[index_list[i]].reshape(28, 28))\n",
    "    plt.gray()\n",
    "    ax.get_xaxis().set_visible(False)\n",
    "    ax.get_yaxis().set_visible(False)"
   ]
  },
  {
   "cell_type": "code",
   "execution_count": 88,
   "metadata": {},
   "outputs": [],
   "source": [
    "#there are not big differen in the original image between decoded image, and the biggest error occured in number 8"
   ]
  },
  {
   "cell_type": "markdown",
   "metadata": {},
   "source": [
    "#### PART 2"
   ]
  },
  {
   "cell_type": "code",
   "execution_count": 2,
   "metadata": {},
   "outputs": [],
   "source": [
    "import pandas as pd"
   ]
  },
  {
   "cell_type": "code",
   "execution_count": 3,
   "metadata": {},
   "outputs": [],
   "source": [
    "data = pd.read_csv('data1.csv')"
   ]
  },
  {
   "cell_type": "code",
   "execution_count": 4,
   "metadata": {},
   "outputs": [],
   "source": [
    "data_dropped = data.drop(columns = 'Class')"
   ]
  },
  {
   "cell_type": "code",
   "execution_count": 5,
   "metadata": {},
   "outputs": [
    {
     "name": "stderr",
     "output_type": "stream",
     "text": [
      "Using TensorFlow backend.\n"
     ]
    }
   ],
   "source": [
    "\n",
    "from keras.models import Model\n",
    "from keras.layers import Dense, Input\n",
    "import matplotlib.pyplot as plt\n",
    "import numpy as np"
   ]
  },
  {
   "cell_type": "code",
   "execution_count": 6,
   "metadata": {},
   "outputs": [],
   "source": [
    "valid = data_dropped.sample(n = 50000, random_state = 886)\n",
    "train = data_dropped.loc[~data_dropped.index.isin(valid.index)]"
   ]
  },
  {
   "cell_type": "code",
   "execution_count": 7,
   "metadata": {},
   "outputs": [],
   "source": [
    "valid = valid.values.astype('float32')/120.58949\n",
    "train = train.values.astype('float32')/120.58949"
   ]
  },
  {
   "cell_type": "code",
   "execution_count": 8,
   "metadata": {},
   "outputs": [
    {
     "data": {
      "text/plain": [
       "numpy.ndarray"
      ]
     },
     "execution_count": 8,
     "metadata": {},
     "output_type": "execute_result"
    }
   ],
   "source": [
    "type(valid)"
   ]
  },
  {
   "cell_type": "markdown",
   "metadata": {},
   "source": [
    "##### q1"
   ]
  },
  {
   "cell_type": "code",
   "execution_count": 9,
   "metadata": {
    "scrolled": true
   },
   "outputs": [
    {
     "name": "stdout",
     "output_type": "stream",
     "text": [
      "Train on 234807 samples, validate on 50000 samples\n",
      "Epoch 1/50\n",
      "234807/234807 [==============================] - 1s 5us/step - loss: 6.9964e-05 - val_loss: 6.1291e-05\n",
      "Epoch 2/50\n",
      "234807/234807 [==============================] - 1s 4us/step - loss: 6.1352e-05 - val_loss: 5.9878e-05\n",
      "Epoch 3/50\n",
      "234807/234807 [==============================] - 1s 4us/step - loss: 6.0902e-05 - val_loss: 5.9832e-05\n",
      "Epoch 4/50\n",
      "234807/234807 [==============================] - 1s 4us/step - loss: 6.0827e-05 - val_loss: 5.9771e-05\n",
      "Epoch 5/50\n",
      "234807/234807 [==============================] - 1s 4us/step - loss: 6.0788e-05 - val_loss: 5.9695e-05\n",
      "Epoch 6/50\n",
      "234807/234807 [==============================] - 1s 4us/step - loss: 6.0758e-05 - val_loss: 5.9742e-05\n",
      "Epoch 7/50\n",
      "234807/234807 [==============================] - 1s 4us/step - loss: 6.0721e-05 - val_loss: 5.9728e-05\n",
      "Epoch 8/50\n",
      "234807/234807 [==============================] - 1s 4us/step - loss: 6.0652e-05 - val_loss: 5.9680e-05\n",
      "Epoch 9/50\n",
      "234807/234807 [==============================] - 1s 4us/step - loss: 6.0485e-05 - val_loss: 5.9459e-05\n",
      "Epoch 10/50\n",
      "234807/234807 [==============================] - 1s 4us/step - loss: 6.0260e-05 - val_loss: 5.9296e-05\n",
      "Epoch 11/50\n",
      "234807/234807 [==============================] - 1s 4us/step - loss: 6.0002e-05 - val_loss: 5.9274e-05\n",
      "Epoch 12/50\n",
      "234807/234807 [==============================] - 1s 4us/step - loss: 5.9849e-05 - val_loss: 5.9122e-05\n",
      "Epoch 13/50\n",
      "234807/234807 [==============================] - 1s 4us/step - loss: 5.9756e-05 - val_loss: 5.9115e-05\n",
      "Epoch 14/50\n",
      "234807/234807 [==============================] - 1s 4us/step - loss: 5.9735e-05 - val_loss: 5.8976e-05\n",
      "Epoch 15/50\n",
      "234807/234807 [==============================] - 1s 4us/step - loss: 5.9705e-05 - val_loss: 5.9049e-05\n",
      "Epoch 16/50\n",
      "234807/234807 [==============================] - 1s 4us/step - loss: 5.9715e-05 - val_loss: 5.8965e-05\n",
      "Epoch 17/50\n",
      "234807/234807 [==============================] - 1s 4us/step - loss: 5.9694e-05 - val_loss: 5.8940e-05\n",
      "Epoch 18/50\n",
      "234807/234807 [==============================] - 1s 4us/step - loss: 5.9691e-05 - val_loss: 5.8986e-05\n",
      "Epoch 19/50\n",
      "234807/234807 [==============================] - 1s 4us/step - loss: 5.9686e-05 - val_loss: 5.8886e-05\n",
      "Epoch 20/50\n",
      "234807/234807 [==============================] - 1s 4us/step - loss: 5.9695e-05 - val_loss: 5.8999e-05\n",
      "Epoch 21/50\n",
      "234807/234807 [==============================] - 1s 4us/step - loss: 5.9680e-05 - val_loss: 5.8985e-05\n",
      "Epoch 22/50\n",
      "234807/234807 [==============================] - 1s 4us/step - loss: 5.9689e-05 - val_loss: 5.8966e-05\n",
      "Epoch 23/50\n",
      "234807/234807 [==============================] - 1s 4us/step - loss: 5.9684e-05 - val_loss: 5.8939e-05\n",
      "Epoch 24/50\n",
      "234807/234807 [==============================] - 1s 4us/step - loss: 5.9684e-05 - val_loss: 5.8963e-05\n",
      "Epoch 25/50\n",
      "234807/234807 [==============================] - 1s 4us/step - loss: 5.9694e-05 - val_loss: 5.9001e-05\n",
      "Epoch 26/50\n",
      "234807/234807 [==============================] - 1s 4us/step - loss: 5.9691e-05 - val_loss: 5.8935e-05\n",
      "Epoch 27/50\n",
      "234807/234807 [==============================] - 1s 4us/step - loss: 5.9672e-05 - val_loss: 5.9006e-05\n",
      "Epoch 28/50\n",
      "234807/234807 [==============================] - 1s 4us/step - loss: 5.9691e-05 - val_loss: 5.9013e-05\n",
      "Epoch 29/50\n",
      "234807/234807 [==============================] - 1s 4us/step - loss: 5.9681e-05 - val_loss: 5.9041e-05\n",
      "Epoch 30/50\n",
      "234807/234807 [==============================] - 1s 4us/step - loss: 5.9684e-05 - val_loss: 5.8926e-05\n",
      "Epoch 31/50\n",
      "234807/234807 [==============================] - 1s 4us/step - loss: 5.9685e-05 - val_loss: 5.8969e-05\n",
      "Epoch 32/50\n",
      "234807/234807 [==============================] - 1s 4us/step - loss: 5.9679e-05 - val_loss: 5.9097e-05\n",
      "Epoch 33/50\n",
      "234807/234807 [==============================] - 1s 4us/step - loss: 5.9688e-05 - val_loss: 5.8949e-05\n",
      "Epoch 34/50\n",
      "234807/234807 [==============================] - 1s 4us/step - loss: 5.9691e-05 - val_loss: 5.8939e-05\n",
      "Epoch 35/50\n",
      "234807/234807 [==============================] - 1s 4us/step - loss: 5.9683e-05 - val_loss: 5.8985e-05\n",
      "Epoch 36/50\n",
      "234807/234807 [==============================] - 1s 4us/step - loss: 5.9677e-05 - val_loss: 5.8978e-05\n",
      "Epoch 37/50\n",
      "234807/234807 [==============================] - 1s 4us/step - loss: 5.9689e-05 - val_loss: 5.8999e-05\n",
      "Epoch 38/50\n",
      "234807/234807 [==============================] - 1s 4us/step - loss: 5.9694e-05 - val_loss: 5.8892e-05\n",
      "Epoch 39/50\n",
      "234807/234807 [==============================] - 1s 4us/step - loss: 5.9686e-05 - val_loss: 5.8926e-05\n",
      "Epoch 40/50\n",
      "234807/234807 [==============================] - 1s 4us/step - loss: 5.9677e-05 - val_loss: 5.8936e-05\n",
      "Epoch 41/50\n",
      "234807/234807 [==============================] - 1s 4us/step - loss: 5.9682e-05 - val_loss: 5.8912e-05\n",
      "Epoch 42/50\n",
      "234807/234807 [==============================] - 1s 4us/step - loss: 5.9682e-05 - val_loss: 5.8947e-05\n",
      "Epoch 43/50\n",
      "234807/234807 [==============================] - 1s 4us/step - loss: 5.9681e-05 - val_loss: 5.8987e-05\n",
      "Epoch 44/50\n",
      "234807/234807 [==============================] - 1s 4us/step - loss: 5.9684e-05 - val_loss: 5.8925e-05\n",
      "Epoch 45/50\n",
      "234807/234807 [==============================] - 1s 4us/step - loss: 5.9675e-05 - val_loss: 5.9079e-05\n",
      "Epoch 46/50\n",
      "234807/234807 [==============================] - 1s 4us/step - loss: 5.9691e-05 - val_loss: 5.9083e-05\n",
      "Epoch 47/50\n",
      "234807/234807 [==============================] - 1s 4us/step - loss: 5.9684e-05 - val_loss: 5.8943e-05\n",
      "Epoch 48/50\n",
      "234807/234807 [==============================] - 1s 4us/step - loss: 5.9680e-05 - val_loss: 5.8966e-05\n",
      "Epoch 49/50\n",
      "234807/234807 [==============================] - 1s 4us/step - loss: 5.9682e-05 - val_loss: 5.8920e-05\n",
      "Epoch 50/50\n",
      "234807/234807 [==============================] - 1s 4us/step - loss: 5.9676e-05 - val_loss: 5.8992e-05\n"
     ]
    },
    {
     "data": {
      "text/plain": [
       "<keras.callbacks.History at 0x1bc2eda9240>"
      ]
     },
     "execution_count": 9,
     "metadata": {},
     "output_type": "execute_result"
    }
   ],
   "source": [
    "inputs = Input(shape=(28,))\n",
    "hidden_q1 = Dense(2, activation='relu')(inputs)\n",
    "outputs = Dense(28, activation='tanh')(hidden_q1)\n",
    "encoder = Model(inputs=inputs, outputs=hidden_q1)\n",
    "autoencoder = Model(inputs=inputs, outputs=outputs)\n",
    "autoencoder.compile(optimizer='adam', loss='mse')\n",
    "autoencoder.fit(train, train,\n",
    "                epochs=50,\n",
    "                batch_size=256,\n",
    "                shuffle=True,\n",
    "                validation_data=(valid, valid))"
   ]
  },
  {
   "cell_type": "code",
   "execution_count": 10,
   "metadata": {},
   "outputs": [],
   "source": [
    "encoded_q1 = encoder.predict(train)\n",
    "decoded_q1 = autoencoder.predict(train)"
   ]
  },
  {
   "cell_type": "code",
   "execution_count": 11,
   "metadata": {},
   "outputs": [],
   "source": [
    "error_q1=[]\n",
    "for i in range(len(decoded_q1)):\n",
    "    mean = np.square(data_dropped.values[i,:]-decoded_q1[i,:]).mean()\n",
    "    error_q1.append(mean)"
   ]
  },
  {
   "cell_type": "code",
   "execution_count": 43,
   "metadata": {},
   "outputs": [
    {
     "data": {
      "text/plain": [
       "456.89230152670297"
      ]
     },
     "execution_count": 43,
     "metadata": {},
     "output_type": "execute_result"
    }
   ],
   "source": [
    "max(error_q1)"
   ]
  },
  {
   "cell_type": "code",
   "execution_count": 36,
   "metadata": {},
   "outputs": [
    {
     "data": {
      "image/png": "[encoded data removed]",
      "text/plain": [
       "<Figure size 432x288 with 1 Axes>"
      ]
     },
     "metadata": {},
     "output_type": "display_data"
    }
   ],
   "source": [
    "num_bins = 1000\n",
    "n, bins, patches = plt.hist(error_q1, num_bins,  facecolor='blue', alpha=0.5)\n",
    "plt.axis([0, 20,0,80000])\n",
    "plt.show() "
   ]
  },
  {
   "cell_type": "markdown",
   "metadata": {},
   "source": [
    "##### q2"
   ]
  },
  {
   "cell_type": "code",
   "execution_count": 38,
   "metadata": {
    "scrolled": true
   },
   "outputs": [
    {
     "name": "stdout",
     "output_type": "stream",
     "text": [
      "Train on 234807 samples, validate on 50000 samples\n",
      "Epoch 1/50\n",
      "234807/234807 [==============================] - 2s 7us/step - loss: 7.5885e-05 - val_loss: 7.4713e-05\n",
      "Epoch 2/50\n",
      "234807/234807 [==============================] - 1s 5us/step - loss: 7.5870e-05 - val_loss: 7.4745e-05\n",
      "Epoch 3/50\n",
      "234807/234807 [==============================] - 1s 5us/step - loss: 7.5872e-05 - val_loss: 7.4840e-05\n",
      "Epoch 4/50\n",
      "234807/234807 [==============================] - 1s 5us/step - loss: 7.5876e-05 - val_loss: 7.4815e-05\n",
      "Epoch 5/50\n",
      "234807/234807 [==============================] - 1s 5us/step - loss: 7.5870e-05 - val_loss: 7.4863e-05\n",
      "Epoch 6/50\n",
      "234807/234807 [==============================] - 1s 5us/step - loss: 7.5872e-05 - val_loss: 7.4873e-05\n",
      "Epoch 7/50\n",
      "234807/234807 [==============================] - 1s 5us/step - loss: 7.5874e-05 - val_loss: 7.4829e-05\n",
      "Epoch 8/50\n",
      "234807/234807 [==============================] - 1s 5us/step - loss: 7.5878e-05 - val_loss: 7.4776e-05\n",
      "Epoch 9/50\n",
      "234807/234807 [==============================] - 1s 5us/step - loss: 7.5873e-05 - val_loss: 7.4801e-05\n",
      "Epoch 10/50\n",
      "234807/234807 [==============================] - 1s 5us/step - loss: 7.5865e-05 - val_loss: 7.4949e-05\n",
      "Epoch 11/50\n",
      "234807/234807 [==============================] - 1s 5us/step - loss: 7.5873e-05 - val_loss: 7.4807e-05\n",
      "Epoch 12/50\n",
      "234807/234807 [==============================] - 1s 5us/step - loss: 7.5875e-05 - val_loss: 7.4741e-05\n",
      "Epoch 13/50\n",
      "234807/234807 [==============================] - 1s 5us/step - loss: 7.5871e-05 - val_loss: 7.4924e-05\n",
      "Epoch 14/50\n",
      "234807/234807 [==============================] - 1s 5us/step - loss: 7.5867e-05 - val_loss: 7.4818e-05\n",
      "Epoch 15/50\n",
      "234807/234807 [==============================] - 1s 5us/step - loss: 7.5875e-05 - val_loss: 7.4800e-05\n",
      "Epoch 16/50\n",
      "234807/234807 [==============================] - 1s 5us/step - loss: 7.5873e-05 - val_loss: 7.4708e-05\n",
      "Epoch 17/50\n",
      "234807/234807 [==============================] - 1s 5us/step - loss: 7.5874e-05 - val_loss: 7.4831e-05\n",
      "Epoch 18/50\n",
      "234807/234807 [==============================] - 1s 5us/step - loss: 7.5865e-05 - val_loss: 7.4885e-05\n",
      "Epoch 19/50\n",
      "234807/234807 [==============================] - 1s 5us/step - loss: 7.5877e-05 - val_loss: 7.4744e-05\n",
      "Epoch 20/50\n",
      "234807/234807 [==============================] - 1s 5us/step - loss: 7.5865e-05 - val_loss: 7.4828e-05\n",
      "Epoch 21/50\n",
      "234807/234807 [==============================] - 1s 5us/step - loss: 7.5878e-05 - val_loss: 7.4757e-05\n",
      "Epoch 22/50\n",
      "234807/234807 [==============================] - 1s 5us/step - loss: 7.5875e-05 - val_loss: 7.4745e-05\n",
      "Epoch 23/50\n",
      "234807/234807 [==============================] - 1s 5us/step - loss: 7.5872e-05 - val_loss: 7.4733e-05\n",
      "Epoch 24/50\n",
      "234807/234807 [==============================] - 1s 6us/step - loss: 7.5864e-05 - val_loss: 7.4777e-05\n",
      "Epoch 25/50\n",
      "234807/234807 [==============================] - 1s 5us/step - loss: 7.5876e-05 - val_loss: 7.4733e-05\n",
      "Epoch 26/50\n",
      "234807/234807 [==============================] - 1s 5us/step - loss: 7.5867e-05 - val_loss: 7.4779e-05\n",
      "Epoch 27/50\n",
      "234807/234807 [==============================] - 1s 5us/step - loss: 7.5870e-05 - val_loss: 7.4758e-05\n",
      "Epoch 28/50\n",
      "234807/234807 [==============================] - 1s 5us/step - loss: 7.5886e-05 - val_loss: 7.4754e-05\n",
      "Epoch 29/50\n",
      "234807/234807 [==============================] - 1s 5us/step - loss: 7.5868e-05 - val_loss: 7.4834e-05\n",
      "Epoch 30/50\n",
      "234807/234807 [==============================] - 1s 5us/step - loss: 7.5881e-05 - val_loss: 7.4801e-05\n",
      "Epoch 31/50\n",
      "234807/234807 [==============================] - 1s 5us/step - loss: 7.5871e-05 - val_loss: 7.4903e-05\n",
      "Epoch 32/50\n",
      "234807/234807 [==============================] - 1s 5us/step - loss: 7.5866e-05 - val_loss: 7.4739e-05\n",
      "Epoch 33/50\n",
      "234807/234807 [==============================] - 1s 5us/step - loss: 7.5868e-05 - val_loss: 7.4773e-05\n",
      "Epoch 34/50\n",
      "234807/234807 [==============================] - 1s 5us/step - loss: 7.5861e-05 - val_loss: 7.4855e-05\n",
      "Epoch 35/50\n",
      "234807/234807 [==============================] - 1s 5us/step - loss: 7.5879e-05 - val_loss: 7.4723e-05\n",
      "Epoch 36/50\n",
      "234807/234807 [==============================] - 1s 5us/step - loss: 7.5873e-05 - val_loss: 7.4838e-05\n",
      "Epoch 37/50\n",
      "234807/234807 [==============================] - 1s 6us/step - loss: 7.5861e-05 - val_loss: 7.4803e-05\n",
      "Epoch 38/50\n",
      "234807/234807 [==============================] - 1s 5us/step - loss: 7.5884e-05 - val_loss: 7.4739e-05\n",
      "Epoch 39/50\n",
      "234807/234807 [==============================] - 1s 5us/step - loss: 7.5867e-05 - val_loss: 7.4722e-05\n",
      "Epoch 40/50\n",
      "234807/234807 [==============================] - 1s 5us/step - loss: 7.5868e-05 - val_loss: 7.4800e-05\n",
      "Epoch 41/50\n",
      "234807/234807 [==============================] - 1s 6us/step - loss: 7.5877e-05 - val_loss: 7.4794e-05\n",
      "Epoch 42/50\n",
      "234807/234807 [==============================] - 1s 5us/step - loss: 7.5879e-05 - val_loss: 7.4769e-05\n",
      "Epoch 43/50\n",
      "234807/234807 [==============================] - 1s 5us/step - loss: 7.5866e-05 - val_loss: 7.4792e-05\n",
      "Epoch 44/50\n",
      "234807/234807 [==============================] - 1s 5us/step - loss: 7.5873e-05 - val_loss: 7.4756e-05\n",
      "Epoch 45/50\n",
      "234807/234807 [==============================] - 1s 6us/step - loss: 7.5869e-05 - val_loss: 7.4830e-05\n",
      "Epoch 46/50\n",
      "234807/234807 [==============================] - 1s 5us/step - loss: 7.5865e-05 - val_loss: 7.4690e-05\n",
      "Epoch 47/50\n",
      "234807/234807 [==============================] - 1s 5us/step - loss: 7.5873e-05 - val_loss: 7.4806e-05\n",
      "Epoch 48/50\n",
      "234807/234807 [==============================] - 1s 5us/step - loss: 7.5866e-05 - val_loss: 7.4797e-05\n",
      "Epoch 49/50\n",
      "234807/234807 [==============================] - 1s 5us/step - loss: 7.5875e-05 - val_loss: 7.4737e-05\n",
      "Epoch 50/50\n",
      "234807/234807 [==============================] - 1s 5us/step - loss: 7.5872e-05 - val_loss: 7.4722e-05\n"
     ]
    },
    {
     "data": {
      "text/plain": [
       "<keras.callbacks.History at 0x1bc4f3f1cc0>"
      ]
     },
     "execution_count": 38,
     "metadata": {},
     "output_type": "execute_result"
    }
   ],
   "source": [
    "encoding_dim = 2\n",
    "inputs = Input(shape=(28,))\n",
    "# encoder layers\n",
    "encoded = Dense(14, activation='relu')(inputs)\n",
    "encoded = Dense(8, activation='relu')(encoded)\n",
    "encoded = Dense(4, activation='relu')(encoded)\n",
    "encoder_output = Dense(encoding_dim)(encoded)\n",
    "# decoder layers\n",
    "decoded = Dense(4, activation='relu')(encoder_output)\n",
    "decoded = Dense(8, activation='relu')(decoded)\n",
    "decoded = Dense(14, activation='relu')(decoded)\n",
    "decoded = Dense(28, activation='tanh')(decoded)\n",
    "# construct the autoencoder model\n",
    "autoencoder = Model(inputs=inputs, outputs=decoded)\n",
    "# construct the encoder model for plotting\n",
    "encoder = Model(inputs=inputs, outputs=encoder_output)\n",
    "# compile autoencoder\n",
    "autoencoder.compile(optimizer='adam', loss='mse')\n",
    "\n",
    "autoencoder.fit(train, train,\n",
    "                epochs=50,\n",
    "                batch_size=256,\n",
    "                shuffle=True,\n",
    "                validation_data=(valid, valid))"
   ]
  },
  {
   "cell_type": "code",
   "execution_count": 39,
   "metadata": {},
   "outputs": [],
   "source": [
    "encoded_q2 = encoder.predict(train)\n",
    "decoded_q2 = autoencoder.predict(train)"
   ]
  },
  {
   "cell_type": "code",
   "execution_count": 40,
   "metadata": {},
   "outputs": [],
   "source": [
    "error_q2=[]\n",
    "for i in range(len(decoded_q1)):\n",
    "    mean = np.square(data_dropped.values[i,:]-decoded_q2[i,:]).mean()\n",
    "    error_q2.append(mean)"
   ]
  },
  {
   "cell_type": "code",
   "execution_count": 41,
   "metadata": {},
   "outputs": [
    {
     "data": {
      "image/png": "[encoded data removed]",
      "text/plain": [
       "<Figure size 432x288 with 1 Axes>"
      ]
     },
     "metadata": {},
     "output_type": "display_data"
    }
   ],
   "source": [
    "num_bins = 1000\n",
    "n, bins, patches = plt.hist(error_q2, num_bins,  facecolor='blue', alpha=0.5)\n",
    "plt.axis([0, 20,0,80000])\n",
    "plt.show() "
   ]
  },
  {
   "cell_type": "markdown",
   "metadata": {},
   "source": [
    "#### q3"
   ]
  },
  {
   "cell_type": "code",
   "execution_count": 45,
   "metadata": {},
   "outputs": [
    {
     "data": {
      "image/png": "[encoded data removed]",
      "text/plain": [
       "<Figure size 432x288 with 1 Axes>"
      ]
     },
     "metadata": {},
     "output_type": "display_data"
    }
   ],
   "source": [
    "plt.scatter(encoded_q1[:, 0], encoded_q1[:, 1])\n",
    "plt.show()"
   ]
  },
  {
   "cell_type": "code",
   "execution_count": 46,
   "metadata": {},
   "outputs": [
    {
     "data": {
      "image/png": "[encoded data removed]",
      "text/plain": [
       "<Figure size 432x288 with 1 Axes>"
      ]
     },
     "metadata": {},
     "output_type": "display_data"
    }
   ],
   "source": [
    "plt.scatter(encoded_q2[:, 0], encoded_q2[:, 1])\n",
    "plt.show()"
   ]
  },
  {
   "cell_type": "code",
   "execution_count": 48,
   "metadata": {},
   "outputs": [
    {
     "data": {
      "text/plain": [
       "array([0, 0, 0, ..., 0, 0, 0], dtype=int64)"
      ]
     },
     "execution_count": 48,
     "metadata": {},
     "output_type": "execute_result"
    }
   ],
   "source": [
    "data.Class.values"
   ]
  },
  {
   "cell_type": "markdown",
   "metadata": {},
   "source": [
    "##### q4"
   ]
  },
  {
   "cell_type": "code",
   "execution_count": 50,
   "metadata": {},
   "outputs": [],
   "source": [
    "label =data.Class.values\n",
    "label_color = ['g' if x == 0 else 'r' for x in label]\n"
   ]
  },
  {
   "cell_type": "code",
   "execution_count": 55,
   "metadata": {},
   "outputs": [
    {
     "data": {
      "image/png": "[encoded data removed]",
      "text/plain": [
       "<Figure size 432x288 with 1 Axes>"
      ]
     },
     "metadata": {},
     "output_type": "display_data"
    }
   ],
   "source": [
    "plt.scatter(encoded_q1[:, 0], encoded_q1[:, 1], c= label_color)\n",
    "plt.show()"
   ]
  },
  {
   "cell_type": "code",
   "execution_count": 52,
   "metadata": {},
   "outputs": [
    {
     "data": {
      "image/png": "[encoded data removed]",
      "text/plain": [
       "<Figure size 432x288 with 1 Axes>"
      ]
     },
     "metadata": {},
     "output_type": "display_data"
    }
   ],
   "source": [
    "plt.scatter(encoded_q2[:, 0], encoded_q2[:, 1], c= label_color)\n",
    "plt.show()"
   ]
  },
  {
   "cell_type": "code",
   "execution_count": null,
   "metadata": {},
   "outputs": [],
   "source": []
  }
 ],
 "metadata": {
  "kernelspec": {
   "display_name": "Python 3",
   "language": "python",
   "name": "python3"
  },
  "language_info": {
   "codemirror_mode": {
    "name": "ipython",
    "version": 3
   },
   "file_extension": ".py",
   "mimetype": "text/x-python",
   "name": "python",
   "nbconvert_exporter": "python",
   "pygments_lexer": "ipython3",
   "version": "3.5.5"
  }
 },
 "nbformat": 4,
 "nbformat_minor": 2
}
